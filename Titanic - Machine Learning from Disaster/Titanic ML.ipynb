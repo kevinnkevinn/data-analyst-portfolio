{
  "cells": [
    {
      "cell_type": "markdown",
      "metadata": {
        "id": "Ytqtg8dLO8-H"
      },
      "source": [
        "Import Library package"
      ]
    },
    {
      "cell_type": "code",
      "execution_count": 1,
      "metadata": {},
      "outputs": [
        {
          "name": "stdout",
          "output_type": "stream",
          "text": [
            "Requirement already satisfied: xgboost in c:\\users\\asus\\appdata\\local\\packages\\pythonsoftwarefoundation.python.3.11_qbz5n2kfra8p0\\localcache\\local-packages\\python311\\site-packages (1.7.6)\n",
            "Requirement already satisfied: numpy in c:\\users\\asus\\appdata\\local\\packages\\pythonsoftwarefoundation.python.3.11_qbz5n2kfra8p0\\localcache\\local-packages\\python311\\site-packages (from xgboost) (1.24.3)\n",
            "Requirement already satisfied: scipy in c:\\users\\asus\\appdata\\local\\packages\\pythonsoftwarefoundation.python.3.11_qbz5n2kfra8p0\\localcache\\local-packages\\python311\\site-packages (from xgboost) (1.10.1)\n",
            "Note: you may need to restart the kernel to use updated packages.\n"
          ]
        }
      ],
      "source": [
        "%pip install xgboost"
      ]
    },
    {
      "cell_type": "code",
      "execution_count": 2,
      "metadata": {
        "id": "5S9HO1F0iBAf"
      },
      "outputs": [],
      "source": [
        "import pandas as pd\n",
        "import seaborn as sns\n",
        "import matplotlib.pyplot as plt\n",
        "import numpy as np\n",
        "import xgboost as xgb\n",
        "\n",
        "from sklearn.preprocessing import StandardScaler, LabelEncoder, OneHotEncoder\n",
        "from sklearn.naive_bayes import GaussianNB\n",
        "from sklearn.linear_model import LogisticRegression\n",
        "from sklearn.tree import DecisionTreeClassifier\n",
        "from sklearn.neighbors import KNeighborsClassifier\n",
        "from sklearn.ensemble import RandomForestClassifier, VotingClassifier\n",
        "from sklearn.svm import SVC\n",
        "from sklearn.model_selection import RandomizedSearchCV\n",
        "from sklearn.compose import ColumnTransformer\n",
        "from xgboost import XGBClassifier\n",
        "from sklearn.ensemble import RandomForestClassifier\n",
        "from sklearn.impute import SimpleImputer\n",
        "from sklearn.model_selection import cross_val_score\n"
      ]
    },
    {
      "cell_type": "markdown",
      "metadata": {
        "id": "hOIqZJKxqngp"
      },
      "source": [
        "# Train Data"
      ]
    },
    {
      "cell_type": "code",
      "execution_count": 3,
      "metadata": {
        "colab": {
          "base_uri": "https://localhost:8080/",
          "height": 206
        },
        "id": "mJeeZAxiqnGr",
        "outputId": "b8445617-d08a-4401-844a-3170551dff19"
      },
      "outputs": [
        {
          "data": {
            "text/html": [
              "<div>\n",
              "<style scoped>\n",
              "    .dataframe tbody tr th:only-of-type {\n",
              "        vertical-align: middle;\n",
              "    }\n",
              "\n",
              "    .dataframe tbody tr th {\n",
              "        vertical-align: top;\n",
              "    }\n",
              "\n",
              "    .dataframe thead th {\n",
              "        text-align: right;\n",
              "    }\n",
              "</style>\n",
              "<table border=\"1\" class=\"dataframe\">\n",
              "  <thead>\n",
              "    <tr style=\"text-align: right;\">\n",
              "      <th></th>\n",
              "      <th>PassengerId</th>\n",
              "      <th>Survived</th>\n",
              "      <th>Pclass</th>\n",
              "      <th>Name</th>\n",
              "      <th>Sex</th>\n",
              "      <th>Age</th>\n",
              "      <th>SibSp</th>\n",
              "      <th>Parch</th>\n",
              "      <th>Ticket</th>\n",
              "      <th>Fare</th>\n",
              "      <th>Cabin</th>\n",
              "      <th>Embarked</th>\n",
              "    </tr>\n",
              "  </thead>\n",
              "  <tbody>\n",
              "    <tr>\n",
              "      <th>0</th>\n",
              "      <td>1</td>\n",
              "      <td>0</td>\n",
              "      <td>3</td>\n",
              "      <td>Braund, Mr. Owen Harris</td>\n",
              "      <td>male</td>\n",
              "      <td>22.0</td>\n",
              "      <td>1</td>\n",
              "      <td>0</td>\n",
              "      <td>A/5 21171</td>\n",
              "      <td>7.2500</td>\n",
              "      <td>NaN</td>\n",
              "      <td>S</td>\n",
              "    </tr>\n",
              "    <tr>\n",
              "      <th>1</th>\n",
              "      <td>2</td>\n",
              "      <td>1</td>\n",
              "      <td>1</td>\n",
              "      <td>Cumings, Mrs. John Bradley (Florence Briggs Th...</td>\n",
              "      <td>female</td>\n",
              "      <td>38.0</td>\n",
              "      <td>1</td>\n",
              "      <td>0</td>\n",
              "      <td>PC 17599</td>\n",
              "      <td>71.2833</td>\n",
              "      <td>C85</td>\n",
              "      <td>C</td>\n",
              "    </tr>\n",
              "    <tr>\n",
              "      <th>2</th>\n",
              "      <td>3</td>\n",
              "      <td>1</td>\n",
              "      <td>3</td>\n",
              "      <td>Heikkinen, Miss. Laina</td>\n",
              "      <td>female</td>\n",
              "      <td>26.0</td>\n",
              "      <td>0</td>\n",
              "      <td>0</td>\n",
              "      <td>STON/O2. 3101282</td>\n",
              "      <td>7.9250</td>\n",
              "      <td>NaN</td>\n",
              "      <td>S</td>\n",
              "    </tr>\n",
              "    <tr>\n",
              "      <th>3</th>\n",
              "      <td>4</td>\n",
              "      <td>1</td>\n",
              "      <td>1</td>\n",
              "      <td>Futrelle, Mrs. Jacques Heath (Lily May Peel)</td>\n",
              "      <td>female</td>\n",
              "      <td>35.0</td>\n",
              "      <td>1</td>\n",
              "      <td>0</td>\n",
              "      <td>113803</td>\n",
              "      <td>53.1000</td>\n",
              "      <td>C123</td>\n",
              "      <td>S</td>\n",
              "    </tr>\n",
              "    <tr>\n",
              "      <th>4</th>\n",
              "      <td>5</td>\n",
              "      <td>0</td>\n",
              "      <td>3</td>\n",
              "      <td>Allen, Mr. William Henry</td>\n",
              "      <td>male</td>\n",
              "      <td>35.0</td>\n",
              "      <td>0</td>\n",
              "      <td>0</td>\n",
              "      <td>373450</td>\n",
              "      <td>8.0500</td>\n",
              "      <td>NaN</td>\n",
              "      <td>S</td>\n",
              "    </tr>\n",
              "  </tbody>\n",
              "</table>\n",
              "</div>"
            ],
            "text/plain": [
              "   PassengerId  Survived  Pclass  \\\n",
              "0            1         0       3   \n",
              "1            2         1       1   \n",
              "2            3         1       3   \n",
              "3            4         1       1   \n",
              "4            5         0       3   \n",
              "\n",
              "                                                Name     Sex   Age  SibSp  \\\n",
              "0                            Braund, Mr. Owen Harris    male  22.0      1   \n",
              "1  Cumings, Mrs. John Bradley (Florence Briggs Th...  female  38.0      1   \n",
              "2                             Heikkinen, Miss. Laina  female  26.0      0   \n",
              "3       Futrelle, Mrs. Jacques Heath (Lily May Peel)  female  35.0      1   \n",
              "4                           Allen, Mr. William Henry    male  35.0      0   \n",
              "\n",
              "   Parch            Ticket     Fare Cabin Embarked  \n",
              "0      0         A/5 21171   7.2500   NaN        S  \n",
              "1      0          PC 17599  71.2833   C85        C  \n",
              "2      0  STON/O2. 3101282   7.9250   NaN        S  \n",
              "3      0            113803  53.1000  C123        S  \n",
              "4      0            373450   8.0500   NaN        S  "
            ]
          },
          "execution_count": 3,
          "metadata": {},
          "output_type": "execute_result"
        }
      ],
      "source": [
        "# Load Train dataset\n",
        "url = 'https://raw.githubusercontent.com/kevinnkevinn/data-analyst-portfolio/main/Titanic%20-%20Machine%20Learning%20from%20Disaster/train.csv'\n",
        "\n",
        "train_data = pd.read_csv(url)\n",
        "train_data.head()"
      ]
    },
    {
      "cell_type": "code",
      "execution_count": 4,
      "metadata": {
        "colab": {
          "base_uri": "https://localhost:8080/"
        },
        "id": "X9No0c-8sRHD",
        "outputId": "7b3ee82b-8a0a-4633-ef8e-5e817932b391"
      },
      "outputs": [
        {
          "name": "stdout",
          "output_type": "stream",
          "text": [
            "<class 'pandas.core.frame.DataFrame'>\n",
            "RangeIndex: 891 entries, 0 to 890\n",
            "Data columns (total 12 columns):\n",
            " #   Column       Non-Null Count  Dtype  \n",
            "---  ------       --------------  -----  \n",
            " 0   PassengerId  891 non-null    int64  \n",
            " 1   Survived     891 non-null    int64  \n",
            " 2   Pclass       891 non-null    int64  \n",
            " 3   Name         891 non-null    object \n",
            " 4   Sex          891 non-null    object \n",
            " 5   Age          714 non-null    float64\n",
            " 6   SibSp        891 non-null    int64  \n",
            " 7   Parch        891 non-null    int64  \n",
            " 8   Ticket       891 non-null    object \n",
            " 9   Fare         891 non-null    float64\n",
            " 10  Cabin        204 non-null    object \n",
            " 11  Embarked     889 non-null    object \n",
            "dtypes: float64(2), int64(5), object(5)\n",
            "memory usage: 83.7+ KB\n"
          ]
        }
      ],
      "source": [
        "train_data.info()"
      ]
    },
    {
      "cell_type": "markdown",
      "metadata": {
        "id": "4sOt3A6dHrWI"
      },
      "source": [
        "# Test Data"
      ]
    },
    {
      "cell_type": "code",
      "execution_count": 5,
      "metadata": {
        "colab": {
          "base_uri": "https://localhost:8080/",
          "height": 206
        },
        "id": "DtqSNKkjroQI",
        "outputId": "fb27cb8c-e0d4-4ad0-d053-59e724c3b7fd"
      },
      "outputs": [
        {
          "data": {
            "text/html": [
              "<div>\n",
              "<style scoped>\n",
              "    .dataframe tbody tr th:only-of-type {\n",
              "        vertical-align: middle;\n",
              "    }\n",
              "\n",
              "    .dataframe tbody tr th {\n",
              "        vertical-align: top;\n",
              "    }\n",
              "\n",
              "    .dataframe thead th {\n",
              "        text-align: right;\n",
              "    }\n",
              "</style>\n",
              "<table border=\"1\" class=\"dataframe\">\n",
              "  <thead>\n",
              "    <tr style=\"text-align: right;\">\n",
              "      <th></th>\n",
              "      <th>PassengerId</th>\n",
              "      <th>Pclass</th>\n",
              "      <th>Name</th>\n",
              "      <th>Sex</th>\n",
              "      <th>Age</th>\n",
              "      <th>SibSp</th>\n",
              "      <th>Parch</th>\n",
              "      <th>Ticket</th>\n",
              "      <th>Fare</th>\n",
              "      <th>Cabin</th>\n",
              "      <th>Embarked</th>\n",
              "    </tr>\n",
              "  </thead>\n",
              "  <tbody>\n",
              "    <tr>\n",
              "      <th>0</th>\n",
              "      <td>892</td>\n",
              "      <td>3</td>\n",
              "      <td>Kelly, Mr. James</td>\n",
              "      <td>male</td>\n",
              "      <td>34.5</td>\n",
              "      <td>0</td>\n",
              "      <td>0</td>\n",
              "      <td>330911</td>\n",
              "      <td>7.8292</td>\n",
              "      <td>NaN</td>\n",
              "      <td>Q</td>\n",
              "    </tr>\n",
              "    <tr>\n",
              "      <th>1</th>\n",
              "      <td>893</td>\n",
              "      <td>3</td>\n",
              "      <td>Wilkes, Mrs. James (Ellen Needs)</td>\n",
              "      <td>female</td>\n",
              "      <td>47.0</td>\n",
              "      <td>1</td>\n",
              "      <td>0</td>\n",
              "      <td>363272</td>\n",
              "      <td>7.0000</td>\n",
              "      <td>NaN</td>\n",
              "      <td>S</td>\n",
              "    </tr>\n",
              "    <tr>\n",
              "      <th>2</th>\n",
              "      <td>894</td>\n",
              "      <td>2</td>\n",
              "      <td>Myles, Mr. Thomas Francis</td>\n",
              "      <td>male</td>\n",
              "      <td>62.0</td>\n",
              "      <td>0</td>\n",
              "      <td>0</td>\n",
              "      <td>240276</td>\n",
              "      <td>9.6875</td>\n",
              "      <td>NaN</td>\n",
              "      <td>Q</td>\n",
              "    </tr>\n",
              "    <tr>\n",
              "      <th>3</th>\n",
              "      <td>895</td>\n",
              "      <td>3</td>\n",
              "      <td>Wirz, Mr. Albert</td>\n",
              "      <td>male</td>\n",
              "      <td>27.0</td>\n",
              "      <td>0</td>\n",
              "      <td>0</td>\n",
              "      <td>315154</td>\n",
              "      <td>8.6625</td>\n",
              "      <td>NaN</td>\n",
              "      <td>S</td>\n",
              "    </tr>\n",
              "    <tr>\n",
              "      <th>4</th>\n",
              "      <td>896</td>\n",
              "      <td>3</td>\n",
              "      <td>Hirvonen, Mrs. Alexander (Helga E Lindqvist)</td>\n",
              "      <td>female</td>\n",
              "      <td>22.0</td>\n",
              "      <td>1</td>\n",
              "      <td>1</td>\n",
              "      <td>3101298</td>\n",
              "      <td>12.2875</td>\n",
              "      <td>NaN</td>\n",
              "      <td>S</td>\n",
              "    </tr>\n",
              "  </tbody>\n",
              "</table>\n",
              "</div>"
            ],
            "text/plain": [
              "   PassengerId  Pclass                                          Name     Sex  \\\n",
              "0          892       3                              Kelly, Mr. James    male   \n",
              "1          893       3              Wilkes, Mrs. James (Ellen Needs)  female   \n",
              "2          894       2                     Myles, Mr. Thomas Francis    male   \n",
              "3          895       3                              Wirz, Mr. Albert    male   \n",
              "4          896       3  Hirvonen, Mrs. Alexander (Helga E Lindqvist)  female   \n",
              "\n",
              "    Age  SibSp  Parch   Ticket     Fare Cabin Embarked  \n",
              "0  34.5      0      0   330911   7.8292   NaN        Q  \n",
              "1  47.0      1      0   363272   7.0000   NaN        S  \n",
              "2  62.0      0      0   240276   9.6875   NaN        Q  \n",
              "3  27.0      0      0   315154   8.6625   NaN        S  \n",
              "4  22.0      1      1  3101298  12.2875   NaN        S  "
            ]
          },
          "execution_count": 5,
          "metadata": {},
          "output_type": "execute_result"
        }
      ],
      "source": [
        "# Load test dataset\n",
        "url = 'https://raw.githubusercontent.com/kevinnkevinn/data-analyst-portfolio/main/Titanic%20-%20Machine%20Learning%20from%20Disaster/test.csv'\n",
        "\n",
        "test_data = pd.read_csv(url)\n",
        "test_data.head()"
      ]
    },
    {
      "cell_type": "code",
      "execution_count": 6,
      "metadata": {
        "colab": {
          "base_uri": "https://localhost:8080/"
        },
        "id": "zCr1Hr-tr8Kp",
        "outputId": "3740383d-41eb-40b5-cfc6-d89c94e2e86a"
      },
      "outputs": [
        {
          "name": "stdout",
          "output_type": "stream",
          "text": [
            "<class 'pandas.core.frame.DataFrame'>\n",
            "RangeIndex: 418 entries, 0 to 417\n",
            "Data columns (total 11 columns):\n",
            " #   Column       Non-Null Count  Dtype  \n",
            "---  ------       --------------  -----  \n",
            " 0   PassengerId  418 non-null    int64  \n",
            " 1   Pclass       418 non-null    int64  \n",
            " 2   Name         418 non-null    object \n",
            " 3   Sex          418 non-null    object \n",
            " 4   Age          332 non-null    float64\n",
            " 5   SibSp        418 non-null    int64  \n",
            " 6   Parch        418 non-null    int64  \n",
            " 7   Ticket       418 non-null    object \n",
            " 8   Fare         417 non-null    float64\n",
            " 9   Cabin        91 non-null     object \n",
            " 10  Embarked     418 non-null    object \n",
            "dtypes: float64(2), int64(4), object(5)\n",
            "memory usage: 36.1+ KB\n"
          ]
        }
      ],
      "source": [
        "test_data.info()"
      ]
    },
    {
      "cell_type": "markdown",
      "metadata": {
        "id": "CKucDZByHjwt"
      },
      "source": [
        "# Gender Submission"
      ]
    },
    {
      "cell_type": "code",
      "execution_count": 7,
      "metadata": {
        "colab": {
          "base_uri": "https://localhost:8080/",
          "height": 206
        },
        "id": "7fdcMd6lroN1",
        "outputId": "1848fdae-c38c-4491-8f17-01470cff1ff5"
      },
      "outputs": [
        {
          "data": {
            "text/html": [
              "<div>\n",
              "<style scoped>\n",
              "    .dataframe tbody tr th:only-of-type {\n",
              "        vertical-align: middle;\n",
              "    }\n",
              "\n",
              "    .dataframe tbody tr th {\n",
              "        vertical-align: top;\n",
              "    }\n",
              "\n",
              "    .dataframe thead th {\n",
              "        text-align: right;\n",
              "    }\n",
              "</style>\n",
              "<table border=\"1\" class=\"dataframe\">\n",
              "  <thead>\n",
              "    <tr style=\"text-align: right;\">\n",
              "      <th></th>\n",
              "      <th>PassengerId</th>\n",
              "      <th>Pclass</th>\n",
              "      <th>Name</th>\n",
              "      <th>Sex</th>\n",
              "      <th>Age</th>\n",
              "      <th>SibSp</th>\n",
              "      <th>Parch</th>\n",
              "      <th>Ticket</th>\n",
              "      <th>Fare</th>\n",
              "      <th>Cabin</th>\n",
              "      <th>Embarked</th>\n",
              "    </tr>\n",
              "  </thead>\n",
              "  <tbody>\n",
              "    <tr>\n",
              "      <th>0</th>\n",
              "      <td>892</td>\n",
              "      <td>3</td>\n",
              "      <td>Kelly, Mr. James</td>\n",
              "      <td>male</td>\n",
              "      <td>34.5</td>\n",
              "      <td>0</td>\n",
              "      <td>0</td>\n",
              "      <td>330911</td>\n",
              "      <td>7.8292</td>\n",
              "      <td>NaN</td>\n",
              "      <td>Q</td>\n",
              "    </tr>\n",
              "    <tr>\n",
              "      <th>1</th>\n",
              "      <td>893</td>\n",
              "      <td>3</td>\n",
              "      <td>Wilkes, Mrs. James (Ellen Needs)</td>\n",
              "      <td>female</td>\n",
              "      <td>47.0</td>\n",
              "      <td>1</td>\n",
              "      <td>0</td>\n",
              "      <td>363272</td>\n",
              "      <td>7.0000</td>\n",
              "      <td>NaN</td>\n",
              "      <td>S</td>\n",
              "    </tr>\n",
              "    <tr>\n",
              "      <th>2</th>\n",
              "      <td>894</td>\n",
              "      <td>2</td>\n",
              "      <td>Myles, Mr. Thomas Francis</td>\n",
              "      <td>male</td>\n",
              "      <td>62.0</td>\n",
              "      <td>0</td>\n",
              "      <td>0</td>\n",
              "      <td>240276</td>\n",
              "      <td>9.6875</td>\n",
              "      <td>NaN</td>\n",
              "      <td>Q</td>\n",
              "    </tr>\n",
              "    <tr>\n",
              "      <th>3</th>\n",
              "      <td>895</td>\n",
              "      <td>3</td>\n",
              "      <td>Wirz, Mr. Albert</td>\n",
              "      <td>male</td>\n",
              "      <td>27.0</td>\n",
              "      <td>0</td>\n",
              "      <td>0</td>\n",
              "      <td>315154</td>\n",
              "      <td>8.6625</td>\n",
              "      <td>NaN</td>\n",
              "      <td>S</td>\n",
              "    </tr>\n",
              "    <tr>\n",
              "      <th>4</th>\n",
              "      <td>896</td>\n",
              "      <td>3</td>\n",
              "      <td>Hirvonen, Mrs. Alexander (Helga E Lindqvist)</td>\n",
              "      <td>female</td>\n",
              "      <td>22.0</td>\n",
              "      <td>1</td>\n",
              "      <td>1</td>\n",
              "      <td>3101298</td>\n",
              "      <td>12.2875</td>\n",
              "      <td>NaN</td>\n",
              "      <td>S</td>\n",
              "    </tr>\n",
              "  </tbody>\n",
              "</table>\n",
              "</div>"
            ],
            "text/plain": [
              "   PassengerId  Pclass                                          Name     Sex  \\\n",
              "0          892       3                              Kelly, Mr. James    male   \n",
              "1          893       3              Wilkes, Mrs. James (Ellen Needs)  female   \n",
              "2          894       2                     Myles, Mr. Thomas Francis    male   \n",
              "3          895       3                              Wirz, Mr. Albert    male   \n",
              "4          896       3  Hirvonen, Mrs. Alexander (Helga E Lindqvist)  female   \n",
              "\n",
              "    Age  SibSp  Parch   Ticket     Fare Cabin Embarked  \n",
              "0  34.5      0      0   330911   7.8292   NaN        Q  \n",
              "1  47.0      1      0   363272   7.0000   NaN        S  \n",
              "2  62.0      0      0   240276   9.6875   NaN        Q  \n",
              "3  27.0      0      0   315154   8.6625   NaN        S  \n",
              "4  22.0      1      1  3101298  12.2875   NaN        S  "
            ]
          },
          "execution_count": 7,
          "metadata": {},
          "output_type": "execute_result"
        }
      ],
      "source": [
        "# Load Gendersubmission dataset\n",
        "url = 'https://raw.githubusercontent.com/kevinnkevinn/data-analyst-portfolio/main/Titanic%20-%20Machine%20Learning%20from%20Disaster/test.csv'\n",
        "\n",
        "gender_submission = pd.read_csv(url)\n",
        "gender_submission.head()"
      ]
    },
    {
      "cell_type": "code",
      "execution_count": 8,
      "metadata": {
        "colab": {
          "base_uri": "https://localhost:8080/"
        },
        "id": "KcUwq3Lar-qn",
        "outputId": "1103dd33-c30d-485a-84d7-6817d7927433"
      },
      "outputs": [
        {
          "name": "stdout",
          "output_type": "stream",
          "text": [
            "<class 'pandas.core.frame.DataFrame'>\n",
            "RangeIndex: 418 entries, 0 to 417\n",
            "Data columns (total 11 columns):\n",
            " #   Column       Non-Null Count  Dtype  \n",
            "---  ------       --------------  -----  \n",
            " 0   PassengerId  418 non-null    int64  \n",
            " 1   Pclass       418 non-null    int64  \n",
            " 2   Name         418 non-null    object \n",
            " 3   Sex          418 non-null    object \n",
            " 4   Age          332 non-null    float64\n",
            " 5   SibSp        418 non-null    int64  \n",
            " 6   Parch        418 non-null    int64  \n",
            " 7   Ticket       418 non-null    object \n",
            " 8   Fare         417 non-null    float64\n",
            " 9   Cabin        91 non-null     object \n",
            " 10  Embarked     418 non-null    object \n",
            "dtypes: float64(2), int64(4), object(5)\n",
            "memory usage: 36.1+ KB\n"
          ]
        }
      ],
      "source": [
        "gender_submission.info()"
      ]
    },
    {
      "cell_type": "markdown",
      "metadata": {
        "id": "e1qkmXGesDoC"
      },
      "source": [
        "# Processing Data"
      ]
    },
    {
      "cell_type": "markdown",
      "metadata": {
        "id": "q7-rUAkzsGR-"
      },
      "source": [
        "## Data Cleaning"
      ]
    },
    {
      "cell_type": "code",
      "execution_count": 9,
      "metadata": {
        "colab": {
          "base_uri": "https://localhost:8080/"
        },
        "id": "9lGwdaUysIJK",
        "outputId": "0972e818-ed33-4884-d125-ef6a4e0cc0f2"
      },
      "outputs": [
        {
          "name": "stdout",
          "output_type": "stream",
          "text": [
            "Train Data Missing Info:\n",
            "             Missing Values  Percentage\n",
            "PassengerId               0       0.000\n",
            "Survived                  0       0.000\n",
            "Pclass                    0       0.000\n",
            "Name                      0       0.000\n",
            "Sex                       0       0.000\n",
            "Age                     177      19.865\n",
            "SibSp                     0       0.000\n",
            "Parch                     0       0.000\n",
            "Ticket                    0       0.000\n",
            "Fare                      0       0.000\n",
            "Cabin                   687      77.104\n",
            "Embarked                  2       0.224\n",
            "\n",
            "Test Data Missing Info:\n",
            "             Missing Values  Percentage\n",
            "PassengerId               0       0.000\n",
            "Pclass                    0       0.000\n",
            "Name                      0       0.000\n",
            "Sex                       0       0.000\n",
            "Age                      86      20.574\n",
            "SibSp                     0       0.000\n",
            "Parch                     0       0.000\n",
            "Ticket                    0       0.000\n",
            "Fare                      1       0.239\n",
            "Cabin                   327      78.230\n",
            "Embarked                  0       0.000\n"
          ]
        }
      ],
      "source": [
        "# Calculate missing values and percentages for train_data\n",
        "train_missing_values = train_data.isnull().sum()\n",
        "train_total_rows = len(train_data)\n",
        "train_missing_percentage = (train_missing_values / train_total_rows) * 100\n",
        "\n",
        "# Calculate missing values and percentages for test_data\n",
        "test_missing_values = test_data.isnull().sum()\n",
        "test_total_rows = len(test_data)\n",
        "test_missing_percentage = (test_missing_values / test_total_rows) * 100\n",
        "\n",
        "# Display the results for train_data\n",
        "train_missing_info = pd.concat([train_missing_values, train_missing_percentage.round(3)], axis=1, keys=['Missing Values', 'Percentage'])\n",
        "print(\"Train Data Missing Info:\")\n",
        "print(train_missing_info)\n",
        "\n",
        "# Display the results for test_data\n",
        "test_missing_info = pd.concat([test_missing_values, test_missing_percentage.round(3)], axis=1, keys=['Missing Values', 'Percentage'])\n",
        "print(\"\\nTest Data Missing Info:\")\n",
        "print(test_missing_info)"
      ]
    },
    {
      "cell_type": "code",
      "execution_count": 10,
      "metadata": {
        "id": "JPgX2GCCuYKk"
      },
      "outputs": [],
      "source": [
        "# Handling missing values for 'Age' and 'Fare' columns\n",
        "train_data['Age'].fillna(train_data['Age'].median(), inplace=True)\n",
        "test_data['Age'].fillna(test_data['Age'].median(), inplace=True)\n",
        "test_data['Fare'].fillna(test_data['Fare'].median(), inplace=True)"
      ]
    },
    {
      "cell_type": "markdown",
      "metadata": {
        "id": "Ix2E3LMgzHQ9"
      },
      "source": [
        "Handling missing values with the **median** is a preferred approach for continuous numerical data like `Age` and `Fare` columns due to its robustness to outliers, preservation of data distribution, and insensitivity to skewed data. Unlike the mean, the median is not influenced by extreme values, ensuring the imputed values are not skewed by outliers. It also helps maintain the original data distribution and works well with skewed datasets. While other imputation methods exist, the choice of using the median is a practical and reliable way to fill missing values in such scenarios."
      ]
    },
    {
      "cell_type": "code",
      "execution_count": 11,
      "metadata": {
        "id": "n_ZLW75FuYIZ"
      },
      "outputs": [],
      "source": [
        "# Dropping rows with missing 'Embarked' values in the train dataset\n",
        "train_data.dropna(subset=['Embarked'], inplace=True)"
      ]
    },
    {
      "cell_type": "code",
      "execution_count": 12,
      "metadata": {
        "colab": {
          "base_uri": "https://localhost:8080/"
        },
        "id": "A0s6948NsIwq",
        "outputId": "ecc39ccf-b982-48f5-cf92-7a5c031206c4"
      },
      "outputs": [
        {
          "name": "stdout",
          "output_type": "stream",
          "text": [
            "<class 'pandas.core.frame.DataFrame'>\n",
            "Index: 889 entries, 0 to 890\n",
            "Data columns (total 12 columns):\n",
            " #   Column       Non-Null Count  Dtype  \n",
            "---  ------       --------------  -----  \n",
            " 0   PassengerId  889 non-null    int64  \n",
            " 1   Survived     889 non-null    int64  \n",
            " 2   Pclass       889 non-null    int64  \n",
            " 3   Name         889 non-null    object \n",
            " 4   Sex          889 non-null    object \n",
            " 5   Age          889 non-null    float64\n",
            " 6   SibSp        889 non-null    int64  \n",
            " 7   Parch        889 non-null    int64  \n",
            " 8   Ticket       889 non-null    object \n",
            " 9   Fare         889 non-null    float64\n",
            " 10  Cabin        202 non-null    object \n",
            " 11  Embarked     889 non-null    object \n",
            "dtypes: float64(2), int64(5), object(5)\n",
            "memory usage: 90.3+ KB\n"
          ]
        }
      ],
      "source": [
        "train_data.info()"
      ]
    },
    {
      "cell_type": "code",
      "execution_count": 13,
      "metadata": {
        "colab": {
          "base_uri": "https://localhost:8080/"
        },
        "id": "cxGo8wv9uS3Q",
        "outputId": "52d3dc3b-b5f3-4a0d-fe01-d6a8789a5381"
      },
      "outputs": [
        {
          "name": "stdout",
          "output_type": "stream",
          "text": [
            "<class 'pandas.core.frame.DataFrame'>\n",
            "RangeIndex: 418 entries, 0 to 417\n",
            "Data columns (total 11 columns):\n",
            " #   Column       Non-Null Count  Dtype  \n",
            "---  ------       --------------  -----  \n",
            " 0   PassengerId  418 non-null    int64  \n",
            " 1   Pclass       418 non-null    int64  \n",
            " 2   Name         418 non-null    object \n",
            " 3   Sex          418 non-null    object \n",
            " 4   Age          418 non-null    float64\n",
            " 5   SibSp        418 non-null    int64  \n",
            " 6   Parch        418 non-null    int64  \n",
            " 7   Ticket       418 non-null    object \n",
            " 8   Fare         418 non-null    float64\n",
            " 9   Cabin        91 non-null     object \n",
            " 10  Embarked     418 non-null    object \n",
            "dtypes: float64(2), int64(4), object(5)\n",
            "memory usage: 36.1+ KB\n"
          ]
        }
      ],
      "source": [
        "test_data.info()"
      ]
    },
    {
      "cell_type": "markdown",
      "metadata": {
        "id": "8aJuwgqgzOdY"
      },
      "source": [
        "Due to factors like a high percentage of missing data, its potential irrelevance for the analysis or modelling task, the difficulty of imputation for alphanumeric codes, or data collection constraints that might result in incomplete records for some passengers, the 'Cabin' column might not be handled for missing values. The choice is frequently made based on the analysis's specific goals and the predicted effects of the \"Cabin\" column on the final outcomes."
      ]
    },
    {
      "cell_type": "markdown",
      "metadata": {
        "id": "vo88uSg00aJo"
      },
      "source": [
        "## Data Exploration (Visualization)"
      ]
    },
    {
      "cell_type": "markdown",
      "metadata": {
        "id": "DquZzm7D0ntD"
      },
      "source": [
        "**Histogram**"
      ]
    },
    {
      "cell_type": "code",
      "execution_count": 14,
      "metadata": {
        "colab": {
          "base_uri": "https://localhost:8080/",
          "height": 564
        },
        "id": "7utY63wn0Rpy",
        "outputId": "bed77416-1524-49cd-a35b-cf145faa3211"
      },
      "outputs": [
        {
          "data": {
            "image/png": "[encoded data removed]",
            "text/plain": [
              "<Figure size 1000x600 with 1 Axes>"
            ]
          },
          "metadata": {},
          "output_type": "display_data"
        }
      ],
      "source": [
        "plt.figure(figsize=(10, 6))\n",
        "sns.histplot(train_data['Age'], bins=20)\n",
        "plt.title('Age Distribution')\n",
        "plt.show()"
      ]
    },
    {
      "cell_type": "markdown",
      "metadata": {
        "id": "uNTwc8mN0qZS"
      },
      "source": [
        "**Correlation Heatmap**"
      ]
    },
    {
      "cell_type": "code",
      "execution_count": 15,
      "metadata": {
        "colab": {
          "base_uri": "https://localhost:8080/",
          "height": 600
        },
        "id": "ksbJ9pJm0qwu",
        "outputId": "07780a90-a32f-4e3c-9507-8c60bbe44016"
      },
      "outputs": [
        {
          "data": {
            "image/png": "[encoded data removed]",
            "text/plain": [
              "<Figure size 1000x600 with 2 Axes>"
            ]
          },
          "metadata": {},
          "output_type": "display_data"
        }
      ],
      "source": [
        "# List of non-numeric columns to exclude\n",
        "non_numeric_columns = ['Name', 'Sex', 'Ticket', 'Cabin', 'Embarked']\n",
        "\n",
        "# Select only the numeric columns for correlation calculation\n",
        "numeric_columns = [col for col in train_data.columns if col not in non_numeric_columns]\n",
        "numeric_data = train_data[numeric_columns]\n",
        "\n",
        "# Calculate the correlation matrix for numeric columns\n",
        "corr_matrix = numeric_data.corr()\n",
        "\n",
        "# Plot the correlation heatmap\n",
        "plt.figure(figsize=(10, 6))\n",
        "sns.heatmap(corr_matrix, annot=True, cmap='coolwarm', fmt='.2f')\n",
        "plt.title('Correlation Heatmap')\n",
        "plt.show()"
      ]
    },
    {
      "cell_type": "markdown",
      "metadata": {
        "id": "uykrFWE10w1Q"
      },
      "source": [
        "**Bar chart for survival based on gender**"
      ]
    },
    {
      "cell_type": "code",
      "execution_count": 16,
      "metadata": {
        "colab": {
          "base_uri": "https://localhost:8080/",
          "height": 472
        },
        "id": "0q7Ox5e90z8i",
        "outputId": "3b5593e1-90ab-4d0c-bfcd-22b1c788eb85"
      },
      "outputs": [
        {
          "data": {
            "image/png": "[encoded data removed]",
            "text/plain": [
              "<Figure size 640x480 with 1 Axes>"
            ]
          },
          "metadata": {},
          "output_type": "display_data"
        }
      ],
      "source": [
        "# Create the countplot\n",
        "ax = sns.countplot(x='Sex', hue='Survived', data=train_data)\n",
        "\n",
        "# Get the counts for each category\n",
        "counts = train_data.groupby(['Sex', 'Survived']).size().reset_index(name='Counts')\n",
        "\n",
        "# Add value annotations to the bars\n",
        "for p in ax.patches:\n",
        "    height = p.get_height()\n",
        "    ax.text(p.get_x() + p.get_width() / 2., height + 5, '{:.0f}'.format(height), ha=\"center\")\n",
        "\n",
        "# Set the title and display the plot\n",
        "plt.title('Survival based on Gender')\n",
        "plt.show()"
      ]
    },
    {
      "cell_type": "markdown",
      "metadata": {
        "id": "PqASkYh_1K4L"
      },
      "source": [
        "# Feature Engineering"
      ]
    },
    {
      "cell_type": "markdown",
      "metadata": {
        "id": "6-Bno6lw1VHU"
      },
      "source": [
        "Extracting titles from `Name` and creating a new feature `name_title`"
      ]
    },
    {
      "cell_type": "code",
      "execution_count": 17,
      "metadata": {
        "id": "BqsUoy4W1PX8"
      },
      "outputs": [],
      "source": [
        "train_data['name_title'] = train_data['Name'].apply(lambda x: x.split(',')[1].split('.')[0].strip())\n",
        "test_data['name_title'] = test_data['Name'].apply(lambda x: x.split(',')[1].split('.')[0].strip())"
      ]
    },
    {
      "cell_type": "markdown",
      "metadata": {
        "id": "M-UutaNM1ZSb"
      },
      "source": [
        "Simplifying the `Cabin` column to create `cabin_adv` and `cabin_multiple` features"
      ]
    },
    {
      "cell_type": "code",
      "execution_count": 18,
      "metadata": {
        "id": "C2c0unTX1Rd0"
      },
      "outputs": [],
      "source": [
        "train_data['cabin_adv'] = train_data['Cabin'].apply(lambda x: str(x)[0])\n",
        "test_data['cabin_adv'] = test_data['Cabin'].apply(lambda x: str(x)[0])\n",
        "train_data['cabin_multiple'] = train_data['Cabin'].apply(lambda x: 0 if pd.isna(x) else len(x.split(' ')))\n",
        "test_data['cabin_multiple'] = test_data['Cabin'].apply(lambda x: 0 if pd.isna(x) else len(x.split(' ')))"
      ]
    },
    {
      "cell_type": "markdown",
      "metadata": {
        "id": "rnyboT0K1bBH"
      },
      "source": [
        "Creating a new feature `numeric_ticket` to identify if the ticket contains only numbers"
      ]
    },
    {
      "cell_type": "code",
      "execution_count": 19,
      "metadata": {
        "id": "aqOPAx0v1bNY"
      },
      "outputs": [],
      "source": [
        "train_data['numeric_ticket'] = train_data['Ticket'].apply(lambda x: 1 if x.isnumeric() else 0)\n",
        "test_data['numeric_ticket'] = test_data['Ticket'].apply(lambda x: 1 if x.isnumeric() else 0)"
      ]
    },
    {
      "cell_type": "markdown",
      "metadata": {
        "id": "Y48aGdC01r-w"
      },
      "source": [
        "# Data Preprocessing for Model"
      ]
    },
    {
      "cell_type": "markdown",
      "metadata": {
        "id": "CHlXILpx12nG"
      },
      "source": [
        "Selecting relevant features"
      ]
    },
    {
      "cell_type": "code",
      "execution_count": 20,
      "metadata": {
        "id": "NqfOPKWt1sMV"
      },
      "outputs": [],
      "source": [
        "selected_features = ['Pclass', 'Sex', 'Age', 'SibSp', 'Parch', 'Fare', 'Embarked', 'cabin_adv', 'cabin_multiple', 'numeric_ticket', 'name_title']\n",
        "X_train = train_data[selected_features]\n",
        "y_train = train_data['Survived']\n",
        "X_test = test_data[selected_features]"
      ]
    },
    {
      "cell_type": "markdown",
      "metadata": {
        "id": "-w0FHFMJ14wG"
      },
      "source": [
        "Using LabelEncoder for categorical data"
      ]
    },
    {
      "cell_type": "code",
      "execution_count": 21,
      "metadata": {
        "colab": {
          "base_uri": "https://localhost:8080/"
        },
        "id": "gnNGENB5147o",
        "outputId": "07788984-6dda-4fcc-97b7-9b7050b988aa"
      },
      "outputs": [
        {
          "name": "stdout",
          "output_type": "stream",
          "text": [
            "Label Encoder values for 'Sex':\n",
            "{'female': 0, 'male': 1}\n",
            "\n",
            "Label Encoder values for 'Embarked':\n",
            "{'C': 0, 'Q': 1, 'S': 2}\n",
            "\n",
            "Label Encoder values for 'cabin_adv':\n",
            "{'A': 0, 'B': 1, 'C': 2, 'D': 3, 'E': 4, 'F': 5, 'G': 6, 'T': 7, 'n': 8}\n",
            "\n",
            "Label Encoder values for 'name_title':\n",
            "{'Capt': 0, 'Col': 1, 'Don': 2, 'Dr': 3, 'Jonkheer': 4, 'Lady': 5, 'Major': 6, 'Master': 7, 'Miss': 8, 'Mlle': 9, 'Mme': 10, 'Mr': 11, 'Mrs': 12, 'Ms': 13, 'Rev': 14, 'Sir': 15, 'the Countess': 16}\n"
          ]
        },
        {
          "name": "stderr",
          "output_type": "stream",
          "text": [
            "C:\\Users\\ASUS\\AppData\\Local\\Temp\\ipykernel_5900\\1831416614.py:4: SettingWithCopyWarning: \n",
            "A value is trying to be set on a copy of a slice from a DataFrame.\n",
            "Try using .loc[row_indexer,col_indexer] = value instead\n",
            "\n",
            "See the caveats in the documentation: https://pandas.pydata.org/pandas-docs/stable/user_guide/indexing.html#returning-a-view-versus-a-copy\n",
            "  X_train['Sex_encoded'] = label_encoder.fit_transform(X_train['Sex'])\n",
            "C:\\Users\\ASUS\\AppData\\Local\\Temp\\ipykernel_5900\\1831416614.py:9: SettingWithCopyWarning: \n",
            "A value is trying to be set on a copy of a slice from a DataFrame.\n",
            "Try using .loc[row_indexer,col_indexer] = value instead\n",
            "\n",
            "See the caveats in the documentation: https://pandas.pydata.org/pandas-docs/stable/user_guide/indexing.html#returning-a-view-versus-a-copy\n",
            "  X_train['Embarked_encoded'] = label_encoder.fit_transform(X_train['Embarked'])\n",
            "C:\\Users\\ASUS\\AppData\\Local\\Temp\\ipykernel_5900\\1831416614.py:14: SettingWithCopyWarning: \n",
            "A value is trying to be set on a copy of a slice from a DataFrame.\n",
            "Try using .loc[row_indexer,col_indexer] = value instead\n",
            "\n",
            "See the caveats in the documentation: https://pandas.pydata.org/pandas-docs/stable/user_guide/indexing.html#returning-a-view-versus-a-copy\n",
            "  X_train['cabin_adv_encoded'] = label_encoder.fit_transform(X_train['cabin_adv'])\n",
            "C:\\Users\\ASUS\\AppData\\Local\\Temp\\ipykernel_5900\\1831416614.py:19: SettingWithCopyWarning: \n",
            "A value is trying to be set on a copy of a slice from a DataFrame.\n",
            "Try using .loc[row_indexer,col_indexer] = value instead\n",
            "\n",
            "See the caveats in the documentation: https://pandas.pydata.org/pandas-docs/stable/user_guide/indexing.html#returning-a-view-versus-a-copy\n",
            "  X_train['name_title_encoded'] = label_encoder.fit_transform(X_train['name_title'])\n"
          ]
        }
      ],
      "source": [
        "label_encoder = LabelEncoder()\n",
        "\n",
        "# Fit and transform 'Sex' column\n",
        "X_train['Sex_encoded'] = label_encoder.fit_transform(X_train['Sex'])\n",
        "print(\"Label Encoder values for 'Sex':\")\n",
        "print(dict(zip(label_encoder.classes_, label_encoder.transform(label_encoder.classes_))))\n",
        "\n",
        "# Fit and transform 'Embarked' column\n",
        "X_train['Embarked_encoded'] = label_encoder.fit_transform(X_train['Embarked'])\n",
        "print(\"\\nLabel Encoder values for 'Embarked':\")\n",
        "print(dict(zip(label_encoder.classes_, label_encoder.transform(label_encoder.classes_))))\n",
        "\n",
        "# Fit and transform 'cabin_adv' column\n",
        "X_train['cabin_adv_encoded'] = label_encoder.fit_transform(X_train['cabin_adv'])\n",
        "print(\"\\nLabel Encoder values for 'cabin_adv':\")\n",
        "print(dict(zip(label_encoder.classes_, label_encoder.transform(label_encoder.classes_))))\n",
        "\n",
        "# Fit and transform 'name_title' column\n",
        "X_train['name_title_encoded'] = label_encoder.fit_transform(X_train['name_title'])\n",
        "print(\"\\nLabel Encoder values for 'name_title':\")\n",
        "print(dict(zip(label_encoder.classes_, label_encoder.transform(label_encoder.classes_))))"
      ]
    },
    {
      "cell_type": "markdown",
      "metadata": {
        "id": "3MvrhTxQ2BGq"
      },
      "source": [
        "Impute missing values for `Fare` in the test dataset"
      ]
    },
    {
      "cell_type": "code",
      "execution_count": 22,
      "metadata": {
        "id": "0TxTlJ6I2KsN"
      },
      "outputs": [
        {
          "name": "stderr",
          "output_type": "stream",
          "text": [
            "C:\\Users\\ASUS\\AppData\\Local\\Temp\\ipykernel_5900\\630297141.py:1: SettingWithCopyWarning: \n",
            "A value is trying to be set on a copy of a slice from a DataFrame\n",
            "\n",
            "See the caveats in the documentation: https://pandas.pydata.org/pandas-docs/stable/user_guide/indexing.html#returning-a-view-versus-a-copy\n",
            "  X_test['Fare'].fillna(X_test['Fare'].median(), inplace=True)\n"
          ]
        }
      ],
      "source": [
        "X_test['Fare'].fillna(X_test['Fare'].median(), inplace=True)"
      ]
    },
    {
      "cell_type": "markdown",
      "metadata": {
        "id": "4p9Fy_fz2Ma8"
      },
      "source": [
        "Logarithmic transformation for `Fare`"
      ]
    },
    {
      "cell_type": "code",
      "execution_count": 23,
      "metadata": {
        "colab": {
          "base_uri": "https://localhost:8080/"
        },
        "id": "PzLJFDI_2Muc",
        "outputId": "69a4d5aa-78b1-48ca-d104-d662003c468f"
      },
      "outputs": [
        {
          "name": "stderr",
          "output_type": "stream",
          "text": [
            "C:\\Users\\ASUS\\AppData\\Local\\Temp\\ipykernel_5900\\1193251424.py:1: SettingWithCopyWarning: \n",
            "A value is trying to be set on a copy of a slice from a DataFrame.\n",
            "Try using .loc[row_indexer,col_indexer] = value instead\n",
            "\n",
            "See the caveats in the documentation: https://pandas.pydata.org/pandas-docs/stable/user_guide/indexing.html#returning-a-view-versus-a-copy\n",
            "  X_train['Fare'] = X_train['Fare'].apply(lambda x: np.log1p(x))\n",
            "C:\\Users\\ASUS\\AppData\\Local\\Temp\\ipykernel_5900\\1193251424.py:2: SettingWithCopyWarning: \n",
            "A value is trying to be set on a copy of a slice from a DataFrame.\n",
            "Try using .loc[row_indexer,col_indexer] = value instead\n",
            "\n",
            "See the caveats in the documentation: https://pandas.pydata.org/pandas-docs/stable/user_guide/indexing.html#returning-a-view-versus-a-copy\n",
            "  X_test['Fare'] = X_test['Fare'].apply(lambda x: np.log1p(x))\n"
          ]
        }
      ],
      "source": [
        "X_train['Fare'] = X_train['Fare'].apply(lambda x: np.log1p(x))\n",
        "X_test['Fare'] = X_test['Fare'].apply(lambda x: np.log1p(x))"
      ]
    },
    {
      "cell_type": "markdown",
      "metadata": {
        "id": "gTvMJR-_2Rx1"
      },
      "source": [
        "Scaling the data using StandardScaler"
      ]
    },
    {
      "cell_type": "code",
      "execution_count": 24,
      "metadata": {
        "id": "d_uGTkoq2SDj"
      },
      "outputs": [],
      "source": [
        "# Concatenate X_train and X_test to ensure all categories are considered\n",
        "X_concatenated = pd.concat([X_train, X_test], ignore_index=True)\n",
        "\n",
        "# Define the columns to be one-hot encoded and the columns to be scaled\n",
        "categorical_columns = ['Sex', 'Embarked', 'cabin_adv', 'name_title']\n",
        "numeric_columns = [col for col in X_concatenated.columns if col not in categorical_columns]\n",
        "\n",
        "# Create a column transformer to apply one-hot encoding to categorical columns\n",
        "preprocessor = ColumnTransformer(\n",
        "    transformers=[('cat', OneHotEncoder(), categorical_columns)],\n",
        "    remainder='passthrough'\n",
        ")\n",
        "\n",
        "# Fit and transform the preprocessor on the concatenated data\n",
        "X_encoded = preprocessor.fit_transform(X_concatenated)\n",
        "\n",
        "# Split the data back into separate sets\n",
        "X_train_encoded = X_encoded[:len(X_train)]\n",
        "X_test_encoded = X_encoded[len(X_train):]\n",
        "\n",
        "# Apply StandardScaler to the numeric columns\n",
        "scaler = StandardScaler()\n",
        "X_train_scaled = scaler.fit_transform(X_train_encoded)\n",
        "X_test_scaled = scaler.transform(X_test_encoded)"
      ]
    },
    {
      "cell_type": "markdown",
      "metadata": {
        "id": "mSZte_y93NMg"
      },
      "source": [
        "# Build Model"
      ]
    },
    {
      "cell_type": "code",
      "execution_count": 25,
      "metadata": {
        "colab": {
          "base_uri": "https://localhost:8080/"
        },
        "id": "v7D8ycKb3PY5",
        "outputId": "d2e5691e-93dd-45fa-90e6-97a3c6fbbec0"
      },
      "outputs": [
        {
          "data": {
            "image/png": "[encoded data removed]",
            "text/plain": [
              "<Figure size 1000x600 with 1 Axes>"
            ]
          },
          "metadata": {},
          "output_type": "display_data"
        }
      ],
      "source": [
        "# Initialize the models\n",
        "models = [\n",
        "    ('Naive Bayes', GaussianNB()),\n",
        "    ('Logistic Regression', LogisticRegression(random_state=1)),\n",
        "    ('Decision Tree', DecisionTreeClassifier(random_state=1)),\n",
        "    ('K Nearest Neighbor', KNeighborsClassifier()),\n",
        "    ('Random Forest', RandomForestClassifier(random_state=1)),\n",
        "    ('Support Vector Classifier', SVC(random_state=1, probability=True)),\n",
        "    ('Xtreme Gradient Boosting', xgb.XGBClassifier(random_state=1)),\n",
        "]\n",
        "\n",
        "# Lists to store model names and their mean accuracy scores\n",
        "model_names = []\n",
        "mean_accuracy_scores = []\n",
        "\n",
        "for name, model in models:\n",
        "    cv_scores = cross_val_score(model, X_train_scaled, y_train, cv=5)\n",
        "    model_names.append(name)\n",
        "    mean_accuracy_scores.append(cv_scores.mean() * 100)\n",
        "\n",
        "# Sort the models based on mean accuracy scores in descending order (highest to lowest accuracy)\n",
        "sorted_models = sorted(zip(model_names, mean_accuracy_scores), key=lambda x: x[1], reverse=True)\n",
        "\n",
        "# Extract the sorted model names and mean accuracy scores\n",
        "sorted_model_names = [name for name, _ in sorted_models]\n",
        "sorted_mean_accuracy_scores = [score for _, score in sorted_models]\n",
        "\n",
        "# Create a bar plot for model mean accuracy scores\n",
        "plt.figure(figsize=(10, 6))\n",
        "sns.barplot(x=sorted_mean_accuracy_scores, y=sorted_model_names, palette='viridis')\n",
        "plt.xlabel('Mean Accuracy (%)')\n",
        "plt.ylabel('Model')\n",
        "plt.title('Mean Accuracy of Different Models')\n",
        "\n",
        "# Add annotations to each bar with the corresponding mean accuracy value\n",
        "for i, v in enumerate(sorted_mean_accuracy_scores):\n",
        "    plt.text(v + 1, i, f'{v:.2f}', color='black', va='center')\n",
        "\n",
        "plt.show()"
      ]
    },
    {
      "cell_type": "markdown",
      "metadata": {
        "id": "orRPEAKT3m6A"
      },
      "source": [
        "# Tunning Model"
      ]
    },
    {
      "cell_type": "code",
      "execution_count": 26,
      "metadata": {
        "colab": {
          "base_uri": "https://localhost:8080/"
        },
        "id": "XUx_jVmT3pl-",
        "outputId": "0222d26e-f423-4903-9261-3de8ed7f52d0"
      },
      "outputs": [
        {
          "name": "stdout",
          "output_type": "stream",
          "text": [
            "Fitting 5 folds for each of 100 candidates, totalling 500 fits\n"
          ]
        },
        {
          "name": "stderr",
          "output_type": "stream",
          "text": [
            "C:\\Users\\ASUS\\AppData\\Local\\Packages\\PythonSoftwareFoundation.Python.3.11_qbz5n2kfra8p0\\LocalCache\\local-packages\\Python311\\site-packages\\sklearn\\ensemble\\_forest.py:424: FutureWarning: `max_features='auto'` has been deprecated in 1.1 and will be removed in 1.3. To keep the past behaviour, explicitly set `max_features='sqrt'` or remove this parameter as it is also the default value for RandomForestClassifiers and ExtraTreesClassifiers.\n",
            "  warn(\n"
          ]
        },
        {
          "name": "stdout",
          "output_type": "stream",
          "text": [
            "Best parameters for Random Forest: {'n_estimators': 1000, 'min_samples_split': 10, 'min_samples_leaf': 1, 'max_features': 'auto', 'max_depth': None, 'bootstrap': True}\n",
            "Best accuracy for Random Forest: 83.01720307243065\n"
          ]
        }
      ],
      "source": [
        "rf = RandomForestClassifier(random_state=1)\n",
        "param_grid = {\n",
        "    'n_estimators': [100, 500, 1000],\n",
        "    'bootstrap': [True, False],\n",
        "    'max_depth': [3, 5, 10, 20, 50, 75, 100, None],\n",
        "    'max_features': ['auto', 'sqrt'],\n",
        "    'min_samples_leaf': [1, 2, 4, 10],\n",
        "    'min_samples_split': [2, 5, 10]\n",
        "}\n",
        "\n",
        "clf_rf_rnd = RandomizedSearchCV(rf, param_distributions=param_grid, n_iter=100, cv=5, verbose=True, n_jobs=-1)\n",
        "best_clf_rf_rnd = clf_rf_rnd.fit(X_train_scaled, y_train)\n",
        "print(\"Best parameters for Random Forest:\", best_clf_rf_rnd.best_params_)\n",
        "print(\"Best accuracy for Random Forest:\", best_clf_rf_rnd.best_score_ * 100)"
      ]
    },
    {
      "cell_type": "markdown",
      "metadata": {
        "id": "dILNzqxT_8of"
      },
      "source": [
        "# Building Model Ensemble"
      ]
    },
    {
      "cell_type": "code",
      "execution_count": 27,
      "metadata": {
        "id": "mTRZKYRPAC0F"
      },
      "outputs": [
        {
          "name": "stdout",
          "output_type": "stream",
          "text": [
            "Voting Classifier - Mean Accuracy: 82.34%\n"
          ]
        }
      ],
      "source": [
        "knn = KNeighborsClassifier()\n",
        "svm = SVC(probability=True, random_state=1)\n",
        "rf = RandomForestClassifier(random_state=1)\n",
        "\n",
        "voting_clf = VotingClassifier(estimators=[('KNN', knn), ('SVM', svm), ('RF', rf)], voting='soft')\n",
        "cv_scores_voting = cross_val_score(voting_clf, X_train_scaled, y_train, cv=5)\n",
        "print(f\"Voting Classifier - Mean Accuracy: {cv_scores_voting.mean() * 100:.2f}%\")"
      ]
    },
    {
      "cell_type": "markdown",
      "metadata": {
        "id": "ckVx-jX-ARsc"
      },
      "source": [
        "# Further Ensemble Approaches"
      ]
    },
    {
      "cell_type": "code",
      "execution_count": 28,
      "metadata": {
        "id": "ERkFiIZ6AUi1"
      },
      "outputs": [
        {
          "name": "stdout",
          "output_type": "stream",
          "text": [
            "Voting Classifier (All Estimators) - Mean Accuracy: 83.02%\n"
          ]
        }
      ],
      "source": [
        "lr = LogisticRegression(random_state=1)\n",
        "xgb = xgb.XGBClassifier(random_state=1)\n",
        "\n",
        "voting_clf_all = VotingClassifier(estimators=[('KNN', knn), ('SVM', svm), ('RF', rf), ('LR', lr), ('XGB', xgb)], voting='soft')\n",
        "cv_scores_voting_all = cross_val_score(voting_clf_all, X_train_scaled, y_train, cv=5)\n",
        "print(f\"Voting Classifier (All Estimators) - Mean Accuracy: {cv_scores_voting_all.mean() * 100:.2f}%\")"
      ]
    },
    {
      "cell_type": "markdown",
      "metadata": {
        "id": "5Xb4t_chAWz_"
      },
      "source": [
        "# Conclusion and Final Submission"
      ]
    },
    {
      "cell_type": "code",
      "execution_count": 29,
      "metadata": {},
      "outputs": [
        {
          "name": "stdout",
          "output_type": "stream",
          "text": [
            "\n",
            "Model Additional Ensemble Approaches:\n",
            "Voting Classifier (KNN, SVM, RF): 82.34241096933917\n",
            "Voting Classifier (All Estimators): 83.01847267187202\n"
          ]
        }
      ],
      "source": [
        "# Perform cross-validation and calculate the mean accuracy for the additional ensemble approaches\n",
        "cv_scores_voting = cross_val_score(voting_clf, X_train_scaled, y_train, cv=5)\n",
        "print(\"\\nModel Additional Ensemble Approaches:\")\n",
        "print(\"Voting Classifier (KNN, SVM, RF):\", cv_scores_voting.mean() * 100)\n",
        "print(\"Voting Classifier (All Estimators):\", cv_scores_voting_all.mean() * 100)"
      ]
    },
    {
      "cell_type": "code",
      "execution_count": 30,
      "metadata": {
        "id": "IVwGwZzNCKM7"
      },
      "outputs": [
        {
          "name": "stdout",
          "output_type": "stream",
          "text": [
            "CSV file has been created successfully.\n"
          ]
        }
      ],
      "source": [
        "# Define and fit the imputer on the training data\n",
        "imputer = SimpleImputer(strategy='median')\n",
        "imputer.fit(X_train_scaled)\n",
        "\n",
        "# Impute missing values in X_test_scaled using the same imputer as the training data\n",
        "X_test_scaled_imputed = imputer.transform(X_test_scaled)\n",
        "\n",
        "# Choose the best-performing model for final submission\n",
        "best_model = voting_clf_all\n",
        "\n",
        "# Train the best model on the entire training dataset\n",
        "best_model.fit(X_train_scaled, y_train)\n",
        "\n",
        "# Make predictions on the test data\n",
        "predictions = best_model.predict(X_test_scaled_imputed)\n",
        "\n",
        "# Create a submission DataFrame\n",
        "submission_data = pd.DataFrame({'PassengerId': test_data['PassengerId'], 'Survived': predictions})\n",
        "\n",
        "# Set the 'Survived' column to 0 for passengers who did not survive\n",
        "submission_data.loc[submission_data['Survived'] == 0, 'Survived'] = 0\n",
        "\n",
        "# Save the submission DataFrame to a CSV file for submission\n",
        "submission_data.to_csv('submission.csv', index=False)\n",
        "\n",
        "print(\"CSV file has been created successfully.\")\n"
      ]
    }
  ],
  "metadata": {
    "colab": {
      "provenance": []
    },
    "kernelspec": {
      "display_name": "Python 3",
      "name": "python3"
    },
    "language_info": {
      "codemirror_mode": {
        "name": "ipython",
        "version": 3
      },
      "file_extension": ".py",
      "mimetype": "text/x-python",
      "name": "python",
      "nbconvert_exporter": "python",
      "pygments_lexer": "ipython3",
      "version": "3.11.4"
    }
  },
  "nbformat": 4,
  "nbformat_minor": 0
}
