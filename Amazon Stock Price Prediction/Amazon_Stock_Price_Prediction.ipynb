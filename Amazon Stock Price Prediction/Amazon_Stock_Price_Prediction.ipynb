{
  "nbformat": 4,
  "nbformat_minor": 0,
  "metadata": {
    "colab": {
      "provenance": []
    },
    "kernelspec": {
      "name": "python3",
      "display_name": "Python 3"
    },
    "language_info": {
      "name": "python"
    }
  },
  "cells": [
    {
      "cell_type": "markdown",
      "source": [
        "Import Library Package"
      ],
      "metadata": {
        "id": "mAbh6REMypz4"
      }
    },
    {
      "cell_type": "code",
      "execution_count": 1,
      "metadata": {
        "id": "sRZc6ARiylwv"
      },
      "outputs": [],
      "source": [
        "import numpy as np\n",
        "import pandas as pd\n",
        "import seaborn as sns\n",
        "import matplotlib.pyplot as plt\n",
        "from sklearn.model_selection import train_test_split\n",
        "from sklearn.preprocessing import MinMaxScaler\n",
        "from tensorflow.keras.models import Sequential\n",
        "from tensorflow.keras.layers import Dense, SimpleRNN\n",
        "from tensorflow.keras.callbacks import EarlyStopping"
      ]
    },
    {
      "cell_type": "markdown",
      "source": [
        "Load dataset"
      ],
      "metadata": {
        "id": "ReIiokgq1Jlm"
      }
    },
    {
      "cell_type": "code",
      "source": [
        "url = 'https://raw.githubusercontent.com/kevinnkevinn/data-analyst-portfolio/main/Amazon%20Stock%20Price%20Prediction/AMZN.csv'\n",
        "\n",
        "data = pd.read_csv(url)"
      ],
      "metadata": {
        "id": "9-_U8sQy1TSx"
      },
      "execution_count": 2,
      "outputs": []
    },
    {
      "cell_type": "code",
      "source": [
        "# Display the first 5 rows\n",
        "print(\"First 5 Rows:\")\n",
        "data.head()"
      ],
      "metadata": {
        "colab": {
          "base_uri": "https://localhost:8080/",
          "height": 224
        },
        "id": "AROrBg8Cm7ak",
        "outputId": "42f3b040-94f3-44e4-b3db-1bbded7faaef"
      },
      "execution_count": 3,
      "outputs": [
        {
          "output_type": "stream",
          "name": "stdout",
          "text": [
            "First 5 Rows:\n"
          ]
        },
        {
          "output_type": "execute_result",
          "data": {
            "text/plain": [
              "         Date        Open        High         Low       Close   Adj Close  \\\n",
              "0  2022-07-18  115.000000  117.239998  113.150002  113.760002  113.760002   \n",
              "1  2022-07-19  115.699997  118.949997  114.029999  118.209999  118.209999   \n",
              "2  2022-07-20  118.620003  123.480003  118.320000  122.769997  122.769997   \n",
              "3  2022-07-21  123.199997  124.849998  121.260002  124.629997  124.629997   \n",
              "4  2022-07-22  125.010002  125.500000  121.349998  122.419998  122.419998   \n",
              "\n",
              "     Volume  \n",
              "0  59115400  \n",
              "1  60990000  \n",
              "2  71268300  \n",
              "3  60239900  \n",
              "4  51463800  "
            ],
            "text/html": [
              "\n",
              "\n",
              "  <div id=\"df-9bef103d-6d79-4ed6-a070-fe6d2d077f67\">\n",
              "    <div class=\"colab-df-container\">\n",
              "      <div>\n",
              "<style scoped>\n",
              "    .dataframe tbody tr th:only-of-type {\n",
              "        vertical-align: middle;\n",
              "    }\n",
              "\n",
              "    .dataframe tbody tr th {\n",
              "        vertical-align: top;\n",
              "    }\n",
              "\n",
              "    .dataframe thead th {\n",
              "        text-align: right;\n",
              "    }\n",
              "</style>\n",
              "<table border=\"1\" class=\"dataframe\">\n",
              "  <thead>\n",
              "    <tr style=\"text-align: right;\">\n",
              "      <th></th>\n",
              "      <th>Date</th>\n",
              "      <th>Open</th>\n",
              "      <th>High</th>\n",
              "      <th>Low</th>\n",
              "      <th>Close</th>\n",
              "      <th>Adj Close</th>\n",
              "      <th>Volume</th>\n",
              "    </tr>\n",
              "  </thead>\n",
              "  <tbody>\n",
              "    <tr>\n",
              "      <th>0</th>\n",
              "      <td>2022-07-18</td>\n",
              "      <td>115.000000</td>\n",
              "      <td>117.239998</td>\n",
              "      <td>113.150002</td>\n",
              "      <td>113.760002</td>\n",
              "      <td>113.760002</td>\n",
              "      <td>59115400</td>\n",
              "    </tr>\n",
              "    <tr>\n",
              "      <th>1</th>\n",
              "      <td>2022-07-19</td>\n",
              "      <td>115.699997</td>\n",
              "      <td>118.949997</td>\n",
              "      <td>114.029999</td>\n",
              "      <td>118.209999</td>\n",
              "      <td>118.209999</td>\n",
              "      <td>60990000</td>\n",
              "    </tr>\n",
              "    <tr>\n",
              "      <th>2</th>\n",
              "      <td>2022-07-20</td>\n",
              "      <td>118.620003</td>\n",
              "      <td>123.480003</td>\n",
              "      <td>118.320000</td>\n",
              "      <td>122.769997</td>\n",
              "      <td>122.769997</td>\n",
              "      <td>71268300</td>\n",
              "    </tr>\n",
              "    <tr>\n",
              "      <th>3</th>\n",
              "      <td>2022-07-21</td>\n",
              "      <td>123.199997</td>\n",
              "      <td>124.849998</td>\n",
              "      <td>121.260002</td>\n",
              "      <td>124.629997</td>\n",
              "      <td>124.629997</td>\n",
              "      <td>60239900</td>\n",
              "    </tr>\n",
              "    <tr>\n",
              "      <th>4</th>\n",
              "      <td>2022-07-22</td>\n",
              "      <td>125.010002</td>\n",
              "      <td>125.500000</td>\n",
              "      <td>121.349998</td>\n",
              "      <td>122.419998</td>\n",
              "      <td>122.419998</td>\n",
              "      <td>51463800</td>\n",
              "    </tr>\n",
              "  </tbody>\n",
              "</table>\n",
              "</div>\n",
              "      <button class=\"colab-df-convert\" onclick=\"convertToInteractive('df-9bef103d-6d79-4ed6-a070-fe6d2d077f67')\"\n",
              "              title=\"Convert this dataframe to an interactive table.\"\n",
              "              style=\"display:none;\">\n",
              "\n",
              "  <svg xmlns=\"http://www.w3.org/2000/svg\" height=\"24px\"viewBox=\"0 0 24 24\"\n",
              "       width=\"24px\">\n",
              "    <path d=\"M0 0h24v24H0V0z\" fill=\"none\"/>\n",
              "    <path d=\"M18.56 5.44l.94 2.06.94-2.06 2.06-.94-2.06-.94-.94-2.06-.94 2.06-2.06.94zm-11 1L8.5 8.5l.94-2.06 2.06-.94-2.06-.94L8.5 2.5l-.94 2.06-2.06.94zm10 10l.94 2.06.94-2.06 2.06-.94-2.06-.94-.94-2.06-.94 2.06-2.06.94z\"/><path d=\"M17.41 7.96l-1.37-1.37c-.4-.4-.92-.59-1.43-.59-.52 0-1.04.2-1.43.59L10.3 9.45l-7.72 7.72c-.78.78-.78 2.05 0 2.83L4 21.41c.39.39.9.59 1.41.59.51 0 1.02-.2 1.41-.59l7.78-7.78 2.81-2.81c.8-.78.8-2.07 0-2.86zM5.41 20L4 18.59l7.72-7.72 1.47 1.35L5.41 20z\"/>\n",
              "  </svg>\n",
              "      </button>\n",
              "\n",
              "\n",
              "\n",
              "    <div id=\"df-708185ca-ac40-4fba-b09d-8e5860870436\">\n",
              "      <button class=\"colab-df-quickchart\" onclick=\"quickchart('df-708185ca-ac40-4fba-b09d-8e5860870436')\"\n",
              "              title=\"Suggest charts.\"\n",
              "              style=\"display:none;\">\n",
              "\n",
              "<svg xmlns=\"http://www.w3.org/2000/svg\" height=\"24px\"viewBox=\"0 0 24 24\"\n",
              "     width=\"24px\">\n",
              "    <g>\n",
              "        <path d=\"M19 3H5c-1.1 0-2 .9-2 2v14c0 1.1.9 2 2 2h14c1.1 0 2-.9 2-2V5c0-1.1-.9-2-2-2zM9 17H7v-7h2v7zm4 0h-2V7h2v10zm4 0h-2v-4h2v4z\"/>\n",
              "    </g>\n",
              "</svg>\n",
              "      </button>\n",
              "    </div>\n",
              "\n",
              "<style>\n",
              "  .colab-df-quickchart {\n",
              "    background-color: #E8F0FE;\n",
              "    border: none;\n",
              "    border-radius: 50%;\n",
              "    cursor: pointer;\n",
              "    display: none;\n",
              "    fill: #1967D2;\n",
              "    height: 32px;\n",
              "    padding: 0 0 0 0;\n",
              "    width: 32px;\n",
              "  }\n",
              "\n",
              "  .colab-df-quickchart:hover {\n",
              "    background-color: #E2EBFA;\n",
              "    box-shadow: 0px 1px 2px rgba(60, 64, 67, 0.3), 0px 1px 3px 1px rgba(60, 64, 67, 0.15);\n",
              "    fill: #174EA6;\n",
              "  }\n",
              "\n",
              "  [theme=dark] .colab-df-quickchart {\n",
              "    background-color: #3B4455;\n",
              "    fill: #D2E3FC;\n",
              "  }\n",
              "\n",
              "  [theme=dark] .colab-df-quickchart:hover {\n",
              "    background-color: #434B5C;\n",
              "    box-shadow: 0px 1px 3px 1px rgba(0, 0, 0, 0.15);\n",
              "    filter: drop-shadow(0px 1px 2px rgba(0, 0, 0, 0.3));\n",
              "    fill: #FFFFFF;\n",
              "  }\n",
              "</style>\n",
              "\n",
              "    <script>\n",
              "      async function quickchart(key) {\n",
              "        const containerElement = document.querySelector('#' + key);\n",
              "        const charts = await google.colab.kernel.invokeFunction(\n",
              "            'suggestCharts', [key], {});\n",
              "      }\n",
              "    </script>\n",
              "\n",
              "      <script>\n",
              "\n",
              "function displayQuickchartButton(domScope) {\n",
              "  let quickchartButtonEl =\n",
              "    domScope.querySelector('#df-708185ca-ac40-4fba-b09d-8e5860870436 button.colab-df-quickchart');\n",
              "  quickchartButtonEl.style.display =\n",
              "    google.colab.kernel.accessAllowed ? 'block' : 'none';\n",
              "}\n",
              "\n",
              "        displayQuickchartButton(document);\n",
              "      </script>\n",
              "      <style>\n",
              "    .colab-df-container {\n",
              "      display:flex;\n",
              "      flex-wrap:wrap;\n",
              "      gap: 12px;\n",
              "    }\n",
              "\n",
              "    .colab-df-convert {\n",
              "      background-color: #E8F0FE;\n",
              "      border: none;\n",
              "      border-radius: 50%;\n",
              "      cursor: pointer;\n",
              "      display: none;\n",
              "      fill: #1967D2;\n",
              "      height: 32px;\n",
              "      padding: 0 0 0 0;\n",
              "      width: 32px;\n",
              "    }\n",
              "\n",
              "    .colab-df-convert:hover {\n",
              "      background-color: #E2EBFA;\n",
              "      box-shadow: 0px 1px 2px rgba(60, 64, 67, 0.3), 0px 1px 3px 1px rgba(60, 64, 67, 0.15);\n",
              "      fill: #174EA6;\n",
              "    }\n",
              "\n",
              "    [theme=dark] .colab-df-convert {\n",
              "      background-color: #3B4455;\n",
              "      fill: #D2E3FC;\n",
              "    }\n",
              "\n",
              "    [theme=dark] .colab-df-convert:hover {\n",
              "      background-color: #434B5C;\n",
              "      box-shadow: 0px 1px 3px 1px rgba(0, 0, 0, 0.15);\n",
              "      filter: drop-shadow(0px 1px 2px rgba(0, 0, 0, 0.3));\n",
              "      fill: #FFFFFF;\n",
              "    }\n",
              "  </style>\n",
              "\n",
              "      <script>\n",
              "        const buttonEl =\n",
              "          document.querySelector('#df-9bef103d-6d79-4ed6-a070-fe6d2d077f67 button.colab-df-convert');\n",
              "        buttonEl.style.display =\n",
              "          google.colab.kernel.accessAllowed ? 'block' : 'none';\n",
              "\n",
              "        async function convertToInteractive(key) {\n",
              "          const element = document.querySelector('#df-9bef103d-6d79-4ed6-a070-fe6d2d077f67');\n",
              "          const dataTable =\n",
              "            await google.colab.kernel.invokeFunction('convertToInteractive',\n",
              "                                                     [key], {});\n",
              "          if (!dataTable) return;\n",
              "\n",
              "          const docLinkHtml = 'Like what you see? Visit the ' +\n",
              "            '<a target=\"_blank\" href=https://colab.research.google.com/notebooks/data_table.ipynb>data table notebook</a>'\n",
              "            + ' to learn more about interactive tables.';\n",
              "          element.innerHTML = '';\n",
              "          dataTable['output_type'] = 'display_data';\n",
              "          await google.colab.output.renderOutput(dataTable, element);\n",
              "          const docLink = document.createElement('div');\n",
              "          docLink.innerHTML = docLinkHtml;\n",
              "          element.appendChild(docLink);\n",
              "        }\n",
              "      </script>\n",
              "    </div>\n",
              "  </div>\n"
            ]
          },
          "metadata": {},
          "execution_count": 3
        }
      ]
    },
    {
      "cell_type": "code",
      "source": [
        "# Display the last 5 rows\n",
        "print(\"\\nLast 5 Rows:\")\n",
        "data.tail()"
      ],
      "metadata": {
        "colab": {
          "base_uri": "https://localhost:8080/",
          "height": 241
        },
        "id": "HstG-Sl1nC85",
        "outputId": "90938f46-50b2-4d96-9ee0-8c198cc1532c"
      },
      "execution_count": 4,
      "outputs": [
        {
          "output_type": "stream",
          "name": "stdout",
          "text": [
            "\n",
            "Last 5 Rows:\n"
          ]
        },
        {
          "output_type": "execute_result",
          "data": {
            "text/plain": [
              "           Date        Open        High         Low       Close   Adj Close  \\\n",
              "245  2023-07-10  129.070007  129.279999  125.919998  127.129997  127.129997   \n",
              "246  2023-07-11  127.750000  129.770004  127.349998  128.779999  128.779999   \n",
              "247  2023-07-12  130.309998  131.259995  128.830002  130.800003  130.800003   \n",
              "248  2023-07-13  134.039993  134.669998  132.710007  134.300003  134.300003   \n",
              "249  2023-07-14  134.059998  136.649994  134.059998  134.679993  134.679993   \n",
              "\n",
              "       Volume  \n",
              "245  61889300  \n",
              "246  49951500  \n",
              "247  54022800  \n",
              "248  61170900  \n",
              "249  54388100  "
            ],
            "text/html": [
              "\n",
              "\n",
              "  <div id=\"df-b6230be6-6c82-449d-985f-cc2c19501c1a\">\n",
              "    <div class=\"colab-df-container\">\n",
              "      <div>\n",
              "<style scoped>\n",
              "    .dataframe tbody tr th:only-of-type {\n",
              "        vertical-align: middle;\n",
              "    }\n",
              "\n",
              "    .dataframe tbody tr th {\n",
              "        vertical-align: top;\n",
              "    }\n",
              "\n",
              "    .dataframe thead th {\n",
              "        text-align: right;\n",
              "    }\n",
              "</style>\n",
              "<table border=\"1\" class=\"dataframe\">\n",
              "  <thead>\n",
              "    <tr style=\"text-align: right;\">\n",
              "      <th></th>\n",
              "      <th>Date</th>\n",
              "      <th>Open</th>\n",
              "      <th>High</th>\n",
              "      <th>Low</th>\n",
              "      <th>Close</th>\n",
              "      <th>Adj Close</th>\n",
              "      <th>Volume</th>\n",
              "    </tr>\n",
              "  </thead>\n",
              "  <tbody>\n",
              "    <tr>\n",
              "      <th>245</th>\n",
              "      <td>2023-07-10</td>\n",
              "      <td>129.070007</td>\n",
              "      <td>129.279999</td>\n",
              "      <td>125.919998</td>\n",
              "      <td>127.129997</td>\n",
              "      <td>127.129997</td>\n",
              "      <td>61889300</td>\n",
              "    </tr>\n",
              "    <tr>\n",
              "      <th>246</th>\n",
              "      <td>2023-07-11</td>\n",
              "      <td>127.750000</td>\n",
              "      <td>129.770004</td>\n",
              "      <td>127.349998</td>\n",
              "      <td>128.779999</td>\n",
              "      <td>128.779999</td>\n",
              "      <td>49951500</td>\n",
              "    </tr>\n",
              "    <tr>\n",
              "      <th>247</th>\n",
              "      <td>2023-07-12</td>\n",
              "      <td>130.309998</td>\n",
              "      <td>131.259995</td>\n",
              "      <td>128.830002</td>\n",
              "      <td>130.800003</td>\n",
              "      <td>130.800003</td>\n",
              "      <td>54022800</td>\n",
              "    </tr>\n",
              "    <tr>\n",
              "      <th>248</th>\n",
              "      <td>2023-07-13</td>\n",
              "      <td>134.039993</td>\n",
              "      <td>134.669998</td>\n",
              "      <td>132.710007</td>\n",
              "      <td>134.300003</td>\n",
              "      <td>134.300003</td>\n",
              "      <td>61170900</td>\n",
              "    </tr>\n",
              "    <tr>\n",
              "      <th>249</th>\n",
              "      <td>2023-07-14</td>\n",
              "      <td>134.059998</td>\n",
              "      <td>136.649994</td>\n",
              "      <td>134.059998</td>\n",
              "      <td>134.679993</td>\n",
              "      <td>134.679993</td>\n",
              "      <td>54388100</td>\n",
              "    </tr>\n",
              "  </tbody>\n",
              "</table>\n",
              "</div>\n",
              "      <button class=\"colab-df-convert\" onclick=\"convertToInteractive('df-b6230be6-6c82-449d-985f-cc2c19501c1a')\"\n",
              "              title=\"Convert this dataframe to an interactive table.\"\n",
              "              style=\"display:none;\">\n",
              "\n",
              "  <svg xmlns=\"http://www.w3.org/2000/svg\" height=\"24px\"viewBox=\"0 0 24 24\"\n",
              "       width=\"24px\">\n",
              "    <path d=\"M0 0h24v24H0V0z\" fill=\"none\"/>\n",
              "    <path d=\"M18.56 5.44l.94 2.06.94-2.06 2.06-.94-2.06-.94-.94-2.06-.94 2.06-2.06.94zm-11 1L8.5 8.5l.94-2.06 2.06-.94-2.06-.94L8.5 2.5l-.94 2.06-2.06.94zm10 10l.94 2.06.94-2.06 2.06-.94-2.06-.94-.94-2.06-.94 2.06-2.06.94z\"/><path d=\"M17.41 7.96l-1.37-1.37c-.4-.4-.92-.59-1.43-.59-.52 0-1.04.2-1.43.59L10.3 9.45l-7.72 7.72c-.78.78-.78 2.05 0 2.83L4 21.41c.39.39.9.59 1.41.59.51 0 1.02-.2 1.41-.59l7.78-7.78 2.81-2.81c.8-.78.8-2.07 0-2.86zM5.41 20L4 18.59l7.72-7.72 1.47 1.35L5.41 20z\"/>\n",
              "  </svg>\n",
              "      </button>\n",
              "\n",
              "\n",
              "\n",
              "    <div id=\"df-2a732144-c45e-476a-aba6-cd83a5b9c45a\">\n",
              "      <button class=\"colab-df-quickchart\" onclick=\"quickchart('df-2a732144-c45e-476a-aba6-cd83a5b9c45a')\"\n",
              "              title=\"Suggest charts.\"\n",
              "              style=\"display:none;\">\n",
              "\n",
              "<svg xmlns=\"http://www.w3.org/2000/svg\" height=\"24px\"viewBox=\"0 0 24 24\"\n",
              "     width=\"24px\">\n",
              "    <g>\n",
              "        <path d=\"M19 3H5c-1.1 0-2 .9-2 2v14c0 1.1.9 2 2 2h14c1.1 0 2-.9 2-2V5c0-1.1-.9-2-2-2zM9 17H7v-7h2v7zm4 0h-2V7h2v10zm4 0h-2v-4h2v4z\"/>\n",
              "    </g>\n",
              "</svg>\n",
              "      </button>\n",
              "    </div>\n",
              "\n",
              "<style>\n",
              "  .colab-df-quickchart {\n",
              "    background-color: #E8F0FE;\n",
              "    border: none;\n",
              "    border-radius: 50%;\n",
              "    cursor: pointer;\n",
              "    display: none;\n",
              "    fill: #1967D2;\n",
              "    height: 32px;\n",
              "    padding: 0 0 0 0;\n",
              "    width: 32px;\n",
              "  }\n",
              "\n",
              "  .colab-df-quickchart:hover {\n",
              "    background-color: #E2EBFA;\n",
              "    box-shadow: 0px 1px 2px rgba(60, 64, 67, 0.3), 0px 1px 3px 1px rgba(60, 64, 67, 0.15);\n",
              "    fill: #174EA6;\n",
              "  }\n",
              "\n",
              "  [theme=dark] .colab-df-quickchart {\n",
              "    background-color: #3B4455;\n",
              "    fill: #D2E3FC;\n",
              "  }\n",
              "\n",
              "  [theme=dark] .colab-df-quickchart:hover {\n",
              "    background-color: #434B5C;\n",
              "    box-shadow: 0px 1px 3px 1px rgba(0, 0, 0, 0.15);\n",
              "    filter: drop-shadow(0px 1px 2px rgba(0, 0, 0, 0.3));\n",
              "    fill: #FFFFFF;\n",
              "  }\n",
              "</style>\n",
              "\n",
              "    <script>\n",
              "      async function quickchart(key) {\n",
              "        const containerElement = document.querySelector('#' + key);\n",
              "        const charts = await google.colab.kernel.invokeFunction(\n",
              "            'suggestCharts', [key], {});\n",
              "      }\n",
              "    </script>\n",
              "\n",
              "      <script>\n",
              "\n",
              "function displayQuickchartButton(domScope) {\n",
              "  let quickchartButtonEl =\n",
              "    domScope.querySelector('#df-2a732144-c45e-476a-aba6-cd83a5b9c45a button.colab-df-quickchart');\n",
              "  quickchartButtonEl.style.display =\n",
              "    google.colab.kernel.accessAllowed ? 'block' : 'none';\n",
              "}\n",
              "\n",
              "        displayQuickchartButton(document);\n",
              "      </script>\n",
              "      <style>\n",
              "    .colab-df-container {\n",
              "      display:flex;\n",
              "      flex-wrap:wrap;\n",
              "      gap: 12px;\n",
              "    }\n",
              "\n",
              "    .colab-df-convert {\n",
              "      background-color: #E8F0FE;\n",
              "      border: none;\n",
              "      border-radius: 50%;\n",
              "      cursor: pointer;\n",
              "      display: none;\n",
              "      fill: #1967D2;\n",
              "      height: 32px;\n",
              "      padding: 0 0 0 0;\n",
              "      width: 32px;\n",
              "    }\n",
              "\n",
              "    .colab-df-convert:hover {\n",
              "      background-color: #E2EBFA;\n",
              "      box-shadow: 0px 1px 2px rgba(60, 64, 67, 0.3), 0px 1px 3px 1px rgba(60, 64, 67, 0.15);\n",
              "      fill: #174EA6;\n",
              "    }\n",
              "\n",
              "    [theme=dark] .colab-df-convert {\n",
              "      background-color: #3B4455;\n",
              "      fill: #D2E3FC;\n",
              "    }\n",
              "\n",
              "    [theme=dark] .colab-df-convert:hover {\n",
              "      background-color: #434B5C;\n",
              "      box-shadow: 0px 1px 3px 1px rgba(0, 0, 0, 0.15);\n",
              "      filter: drop-shadow(0px 1px 2px rgba(0, 0, 0, 0.3));\n",
              "      fill: #FFFFFF;\n",
              "    }\n",
              "  </style>\n",
              "\n",
              "      <script>\n",
              "        const buttonEl =\n",
              "          document.querySelector('#df-b6230be6-6c82-449d-985f-cc2c19501c1a button.colab-df-convert');\n",
              "        buttonEl.style.display =\n",
              "          google.colab.kernel.accessAllowed ? 'block' : 'none';\n",
              "\n",
              "        async function convertToInteractive(key) {\n",
              "          const element = document.querySelector('#df-b6230be6-6c82-449d-985f-cc2c19501c1a');\n",
              "          const dataTable =\n",
              "            await google.colab.kernel.invokeFunction('convertToInteractive',\n",
              "                                                     [key], {});\n",
              "          if (!dataTable) return;\n",
              "\n",
              "          const docLinkHtml = 'Like what you see? Visit the ' +\n",
              "            '<a target=\"_blank\" href=https://colab.research.google.com/notebooks/data_table.ipynb>data table notebook</a>'\n",
              "            + ' to learn more about interactive tables.';\n",
              "          element.innerHTML = '';\n",
              "          dataTable['output_type'] = 'display_data';\n",
              "          await google.colab.output.renderOutput(dataTable, element);\n",
              "          const docLink = document.createElement('div');\n",
              "          docLink.innerHTML = docLinkHtml;\n",
              "          element.appendChild(docLink);\n",
              "        }\n",
              "      </script>\n",
              "    </div>\n",
              "  </div>\n"
            ]
          },
          "metadata": {},
          "execution_count": 4
        }
      ]
    },
    {
      "cell_type": "markdown",
      "source": [
        "For data acquired from July 18, 2022 to July 14, 2023"
      ],
      "metadata": {
        "id": "YwuxBX31Kqjd"
      }
    },
    {
      "cell_type": "code",
      "source": [
        "data.info()\n",
        "data = data.drop('Adj Close', axis=1)"
      ],
      "metadata": {
        "colab": {
          "base_uri": "https://localhost:8080/"
        },
        "id": "0ldHjMI21hOh",
        "outputId": "02d64f15-8af9-48fa-e418-df277660220d"
      },
      "execution_count": 5,
      "outputs": [
        {
          "output_type": "stream",
          "name": "stdout",
          "text": [
            "<class 'pandas.core.frame.DataFrame'>\n",
            "RangeIndex: 250 entries, 0 to 249\n",
            "Data columns (total 7 columns):\n",
            " #   Column     Non-Null Count  Dtype  \n",
            "---  ------     --------------  -----  \n",
            " 0   Date       250 non-null    object \n",
            " 1   Open       250 non-null    float64\n",
            " 2   High       250 non-null    float64\n",
            " 3   Low        250 non-null    float64\n",
            " 4   Close      250 non-null    float64\n",
            " 5   Adj Close  250 non-null    float64\n",
            " 6   Volume     250 non-null    int64  \n",
            "dtypes: float64(5), int64(1), object(1)\n",
            "memory usage: 13.8+ KB\n"
          ]
        }
      ]
    },
    {
      "cell_type": "markdown",
      "source": [
        "Change data type"
      ],
      "metadata": {
        "id": "HuIN2uqM7fex"
      }
    },
    {
      "cell_type": "code",
      "source": [
        "# Convert 'Date' column to datetime\n",
        "data['Date'] = pd.to_datetime(data['Date'])\n",
        "data.info()"
      ],
      "metadata": {
        "colab": {
          "base_uri": "https://localhost:8080/"
        },
        "id": "ISqZ4Cfl8IP2",
        "outputId": "66457d7b-e447-433d-a7c8-bfedb23ab2c8"
      },
      "execution_count": 6,
      "outputs": [
        {
          "output_type": "stream",
          "name": "stdout",
          "text": [
            "<class 'pandas.core.frame.DataFrame'>\n",
            "RangeIndex: 250 entries, 0 to 249\n",
            "Data columns (total 6 columns):\n",
            " #   Column  Non-Null Count  Dtype         \n",
            "---  ------  --------------  -----         \n",
            " 0   Date    250 non-null    datetime64[ns]\n",
            " 1   Open    250 non-null    float64       \n",
            " 2   High    250 non-null    float64       \n",
            " 3   Low     250 non-null    float64       \n",
            " 4   Close   250 non-null    float64       \n",
            " 5   Volume  250 non-null    int64         \n",
            "dtypes: datetime64[ns](1), float64(4), int64(1)\n",
            "memory usage: 11.8 KB\n"
          ]
        }
      ]
    },
    {
      "cell_type": "code",
      "source": [
        "# Custom function to format numbers as needed\n",
        "def custom_format(x):\n",
        "    if abs(x) >= 1000:\n",
        "        return '{:,.0f}'.format(x)\n",
        "    else:\n",
        "        return '{:.2f}'.format(x)\n",
        "\n",
        "# Set pandas option to use the custom format function\n",
        "pd.set_option('display.float_format', custom_format)\n",
        "\n",
        "# Get the data description (summary statistics) of the dataset\n",
        "data_describe = data.describe().T.round(2)\n",
        "data_describe\n",
        "\n",
        "# Save the data description to CSV file\n",
        "data_describe.to_excel('data_describe.xlsx')"
      ],
      "metadata": {
        "id": "9fxTLAMlZXyG"
      },
      "execution_count": 7,
      "outputs": []
    },
    {
      "cell_type": "markdown",
      "source": [
        "Correlation Analysis"
      ],
      "metadata": {
        "id": "kn68TaynEXU_"
      }
    },
    {
      "cell_type": "code",
      "source": [
        "# Perform correlation analysis\n",
        "correlation_matrix = data.corr()\n",
        "\n",
        "# Display the correlation matrix\n",
        "print(\"\\nCorrelation Matrix:\")\n",
        "print(correlation_matrix)\n",
        "\n",
        "# Plot the correlation matrix as a heatmap\n",
        "plt.figure(figsize=(10, 8))\n",
        "plt.title('Correlation Matrix')\n",
        "sns.heatmap(correlation_matrix, annot=True, cmap='coolwarm', fmt='.2f', linewidths=0.5)\n",
        "plt.show()"
      ],
      "metadata": {
        "colab": {
          "base_uri": "https://localhost:8080/",
          "height": 873
        },
        "id": "oUHFG3LVEZOh",
        "outputId": "b3b304de-e9a5-4e0d-e37a-95dee4d0af3a"
      },
      "execution_count": 8,
      "outputs": [
        {
          "output_type": "stream",
          "name": "stderr",
          "text": [
            "<ipython-input-8-39339fa852ee>:2: FutureWarning: The default value of numeric_only in DataFrame.corr is deprecated. In a future version, it will default to False. Select only valid columns or specify the value of numeric_only to silence this warning.\n",
            "  correlation_matrix = data.corr()\n"
          ]
        },
        {
          "output_type": "stream",
          "name": "stdout",
          "text": [
            "\n",
            "Correlation Matrix:\n",
            "        Open  High   Low  Close  Volume\n",
            "Open    1.00  1.00  1.00   0.99   -0.29\n",
            "High    1.00  1.00  1.00   1.00   -0.27\n",
            "Low     1.00  1.00  1.00   1.00   -0.31\n",
            "Close   0.99  1.00  1.00   1.00   -0.29\n",
            "Volume -0.29 -0.27 -0.31  -0.29    1.00\n"
          ]
        },
        {
          "output_type": "display_data",
          "data": {
            "text/plain": [
              "<Figure size 1000x800 with 2 Axes>"
            ],
            "image/png": "[encoded data removed]"
          },
          "metadata": {}
        }
      ]
    },
    {
      "cell_type": "markdown",
      "source": [
        "# Function"
      ],
      "metadata": {
        "id": "LcA5a9o92YQq"
      }
    },
    {
      "cell_type": "code",
      "source": [
        "# Function preparation\n",
        "def plot_predictions(test, predicted):\n",
        "    plt.figure(figsize=(15, 6))  # Determine graphic size (15 x 6)\n",
        "    plt.plot(test, color='red', label='Actual Stock Price')\n",
        "    plt.plot(predicted, color='blue', label='Predicted Stock Price')\n",
        "    plt.title('Stock Price Prediction')\n",
        "    plt.xlabel('Time')\n",
        "    plt.ylabel('Stock Price')\n",
        "    plt.legend()\n",
        "    plt.show()\n",
        "\n",
        "\n",
        "def evaluate_rmse(test, predicted):\n",
        "    return np.sqrt(np.mean((predicted - test)**2))"
      ],
      "metadata": {
        "id": "D0VovyXZ1iB3"
      },
      "execution_count": 9,
      "outputs": []
    },
    {
      "cell_type": "markdown",
      "source": [
        "Split train and test data"
      ],
      "metadata": {
        "id": "eQo4bE4j2exm"
      }
    },
    {
      "cell_type": "code",
      "source": [
        "# Splitting data training & testing\n",
        "train_data, test_data = train_test_split(data, test_size=0.3, shuffle=False)\n",
        "\n",
        "num_train_data = len(train_data)\n",
        "num_test_data = len(test_data)\n",
        "\n",
        "print(\"Number of training data:\", num_train_data)\n",
        "print(\"Number of testing data:\", num_test_data)"
      ],
      "metadata": {
        "colab": {
          "base_uri": "https://localhost:8080/"
        },
        "id": "GEQl_CCA2hx7",
        "outputId": "01d1f79a-c4a2-4618-ecff-5dbda9c3d06b"
      },
      "execution_count": 10,
      "outputs": [
        {
          "output_type": "stream",
          "name": "stdout",
          "text": [
            "Number of training data: 175\n",
            "Number of testing data: 75\n"
          ]
        }
      ]
    },
    {
      "cell_type": "markdown",
      "source": [
        "Data Visualization"
      ],
      "metadata": {
        "id": "x9WV9Mi27Bc0"
      }
    },
    {
      "cell_type": "code",
      "source": [
        "# Data plot visualization\n",
        "plt.figure(figsize=(15, 6))  # Menentukan ukuran grafik (15 x 6)\n",
        "plt.plot(train_data['Date'], train_data['Close'], color='blue', label='Training Data')\n",
        "plt.plot(test_data['Date'], test_data['Close'], color='green', label='Testing Data')\n",
        "plt.title('Amazon Stock Price')\n",
        "plt.xlabel('Date')\n",
        "plt.ylabel('Stock Price')\n",
        "plt.legend()\n",
        "plt.show()"
      ],
      "metadata": {
        "colab": {
          "base_uri": "https://localhost:8080/",
          "height": 564
        },
        "id": "REcwSKQE6z4F",
        "outputId": "18d17baa-7cc4-434b-bbc8-6be8e1c96e83"
      },
      "execution_count": 11,
      "outputs": [
        {
          "output_type": "display_data",
          "data": {
            "text/plain": [
              "<Figure size 1500x600 with 1 Axes>"
            ],
            "image/png": "[encoded data removed]"
          },
          "metadata": {}
        }
      ]
    },
    {
      "cell_type": "markdown",
      "source": [
        "Scailing data using MinMaxScaler"
      ],
      "metadata": {
        "id": "MpUAdV8y7ENl"
      }
    },
    {
      "cell_type": "code",
      "source": [
        "scaler = MinMaxScaler(feature_range=(0, 1))\n",
        "scaled_train_data = scaler.fit_transform(train_data['Close'].values.reshape(-1, 1))"
      ],
      "metadata": {
        "id": "FLcbnKyS7EZC"
      },
      "execution_count": 12,
      "outputs": []
    },
    {
      "cell_type": "markdown",
      "source": [
        "Data Structure and Reshaping"
      ],
      "metadata": {
        "id": "8DKnnFHa7H9i"
      }
    },
    {
      "cell_type": "code",
      "source": [
        "timesteps = 60  # number of timesteps to look back\n",
        "X_train = []\n",
        "y_train = []\n",
        "\n",
        "for i in range(timesteps, len(scaled_train_data)):\n",
        "    X_train.append(scaled_train_data[i - timesteps:i, 0])\n",
        "    y_train.append(scaled_train_data[i, 0])\n",
        "\n",
        "X_train, y_train = np.array(X_train), np.array(y_train)\n",
        "X_train = np.reshape(X_train, (X_train.shape[0], X_train.shape[1], 1))"
      ],
      "metadata": {
        "id": "URp8dc1O7Llq"
      },
      "execution_count": 13,
      "outputs": []
    },
    {
      "cell_type": "code",
      "source": [
        "# Displays the results of data preparation\n",
        "print(\"X_train shape:\", X_train.shape)\n",
        "print(\"y_train shape:\", y_train.shape)"
      ],
      "metadata": {
        "id": "po4Hd5dZJB8F",
        "outputId": "474254d1-d226-4215-ba86-3464a8380c1e",
        "colab": {
          "base_uri": "https://localhost:8080/"
        }
      },
      "execution_count": 14,
      "outputs": [
        {
          "output_type": "stream",
          "name": "stdout",
          "text": [
            "X_train shape: (115, 60, 1)\n",
            "y_train shape: (115,)\n"
          ]
        }
      ]
    },
    {
      "cell_type": "markdown",
      "source": [
        "Create and Train with RNN model"
      ],
      "metadata": {
        "id": "pLPVyUDv7RFu"
      }
    },
    {
      "cell_type": "code",
      "source": [
        "model = Sequential()\n",
        "model.add(SimpleRNN(units=50, activation='relu', input_shape=(X_train.shape[1], 1)))\n",
        "model.add(Dense(units=1))\n",
        "model.compile(optimizer='adam', loss='mean_squared_error')\n",
        "\n",
        "# Train the model\n",
        "early_stopping = EarlyStopping(monitor='val_loss', patience=3, restore_best_weights=True)\n",
        "model.fit(X_train, y_train, epochs=20, batch_size=32, validation_split=0.2, callbacks=[early_stopping])"
      ],
      "metadata": {
        "colab": {
          "base_uri": "https://localhost:8080/"
        },
        "id": "3XiikQSF7RXQ",
        "outputId": "edb4c6ae-6aee-4380-ef40-6dd9582b78d8"
      },
      "execution_count": 15,
      "outputs": [
        {
          "output_type": "stream",
          "name": "stdout",
          "text": [
            "Epoch 1/20\n",
            "3/3 [==============================] - 4s 332ms/step - loss: 0.1288 - val_loss: 0.0669\n",
            "Epoch 2/20\n",
            "3/3 [==============================] - 0s 80ms/step - loss: 0.1092 - val_loss: 0.0567\n",
            "Epoch 3/20\n",
            "3/3 [==============================] - 0s 114ms/step - loss: 0.0955 - val_loss: 0.0496\n",
            "Epoch 4/20\n",
            "3/3 [==============================] - 0s 64ms/step - loss: 0.0852 - val_loss: 0.0449\n",
            "Epoch 5/20\n",
            "3/3 [==============================] - 0s 57ms/step - loss: 0.0771 - val_loss: 0.0408\n",
            "Epoch 6/20\n",
            "3/3 [==============================] - 0s 108ms/step - loss: 0.0716 - val_loss: 0.0372\n",
            "Epoch 7/20\n",
            "3/3 [==============================] - 0s 86ms/step - loss: 0.0663 - val_loss: 0.0341\n",
            "Epoch 8/20\n",
            "3/3 [==============================] - 0s 107ms/step - loss: 0.0615 - val_loss: 0.0312\n",
            "Epoch 9/20\n",
            "3/3 [==============================] - 0s 72ms/step - loss: 0.0570 - val_loss: 0.0280\n",
            "Epoch 10/20\n",
            "3/3 [==============================] - 0s 82ms/step - loss: 0.0522 - val_loss: 0.0243\n",
            "Epoch 11/20\n",
            "3/3 [==============================] - 0s 90ms/step - loss: 0.0477 - val_loss: 0.0202\n",
            "Epoch 12/20\n",
            "3/3 [==============================] - 0s 74ms/step - loss: 0.0424 - val_loss: 0.0161\n",
            "Epoch 13/20\n",
            "3/3 [==============================] - 0s 73ms/step - loss: 0.0359 - val_loss: 0.0117\n",
            "Epoch 14/20\n",
            "3/3 [==============================] - 0s 146ms/step - loss: 0.0297 - val_loss: 0.0074\n",
            "Epoch 15/20\n",
            "3/3 [==============================] - 0s 109ms/step - loss: 0.0223 - val_loss: 0.0039\n",
            "Epoch 16/20\n",
            "3/3 [==============================] - 0s 178ms/step - loss: 0.0154 - val_loss: 0.0016\n",
            "Epoch 17/20\n",
            "3/3 [==============================] - 0s 105ms/step - loss: 0.0098 - val_loss: 0.0017\n",
            "Epoch 18/20\n",
            "3/3 [==============================] - 0s 123ms/step - loss: 0.0073 - val_loss: 0.0024\n",
            "Epoch 19/20\n",
            "3/3 [==============================] - 0s 134ms/step - loss: 0.0068 - val_loss: 0.0013\n",
            "Epoch 20/20\n",
            "3/3 [==============================] - 0s 137ms/step - loss: 0.0057 - val_loss: 9.7867e-04\n"
          ]
        },
        {
          "output_type": "execute_result",
          "data": {
            "text/plain": [
              "<keras.callbacks.History at 0x7ea5b70324a0>"
            ]
          },
          "metadata": {},
          "execution_count": 15
        }
      ]
    },
    {
      "cell_type": "markdown",
      "source": [
        "Prepare test data for prediction"
      ],
      "metadata": {
        "id": "dtFIJaMq-I8Y"
      }
    },
    {
      "cell_type": "code",
      "source": [
        "inputs = data['Close'][len(data) - len(test_data) - timesteps:].values.reshape(-1, 1)\n",
        "inputs = scaler.transform(inputs)\n",
        "X_test = []\n",
        "\n",
        "for i in range(timesteps, len(inputs)):\n",
        "    X_test.append(inputs[i - timesteps:i, 0])\n",
        "\n",
        "X_test = np.array(X_test)\n",
        "X_test = np.reshape(X_test, (X_test.shape[0], X_test.shape[1], 1))"
      ],
      "metadata": {
        "id": "JH15Bd2C-VLI"
      },
      "execution_count": 16,
      "outputs": []
    },
    {
      "cell_type": "markdown",
      "source": [
        "Predict stock Price"
      ],
      "metadata": {
        "id": "4fqBMNeo-fhz"
      }
    },
    {
      "cell_type": "code",
      "source": [
        "predicted_stock_price = model.predict(X_test)\n",
        "predicted_stock_price = scaler.inverse_transform(predicted_stock_price)"
      ],
      "metadata": {
        "colab": {
          "base_uri": "https://localhost:8080/"
        },
        "id": "JcsLagEB-hBJ",
        "outputId": "e9ed1be2-3244-452f-838a-17e1858d2c27"
      },
      "execution_count": 17,
      "outputs": [
        {
          "output_type": "stream",
          "name": "stdout",
          "text": [
            "3/3 [==============================] - 1s 10ms/step\n"
          ]
        }
      ]
    },
    {
      "cell_type": "markdown",
      "source": [
        "Calculate RMSE"
      ],
      "metadata": {
        "id": "Bcnpd15Sca20"
      }
    },
    {
      "cell_type": "code",
      "source": [
        "rmse = evaluate_rmse(test_data['Close'].values, predicted_stock_price)\n",
        "print(\"Root Mean Squared Error (RMSE):\", rmse)"
      ],
      "metadata": {
        "colab": {
          "base_uri": "https://localhost:8080/"
        },
        "id": "YWzPLI2ScaWS",
        "outputId": "32559b8d-d244-4e53-f063-a385ecd0eca9"
      },
      "execution_count": 18,
      "outputs": [
        {
          "output_type": "stream",
          "name": "stdout",
          "text": [
            "Root Mean Squared Error (RMSE): 15.673225015073866\n"
          ]
        }
      ]
    },
    {
      "cell_type": "markdown",
      "source": [
        "Visualize the predictions"
      ],
      "metadata": {
        "id": "0iNwBY_H-ir0"
      }
    },
    {
      "cell_type": "code",
      "source": [
        "plot_predictions(test_data['Close'].values, predicted_stock_price)"
      ],
      "metadata": {
        "colab": {
          "base_uri": "https://localhost:8080/",
          "height": 564
        },
        "id": "Z-LUb7U0-iG3",
        "outputId": "87912b51-d57f-4cd4-b44b-1fceba57d312"
      },
      "execution_count": 19,
      "outputs": [
        {
          "output_type": "display_data",
          "data": {
            "text/plain": [
              "<Figure size 1500x600 with 1 Axes>"
            ],
            "image/png": "[encoded data removed]"
          },
          "metadata": {}
        }
      ]
    }
  ]
}